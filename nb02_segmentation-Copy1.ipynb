{
 "cells": [
  {
   "cell_type": "code",
   "execution_count": 1,
   "metadata": {},
   "outputs": [],
   "source": [
    "from __future__ import print_function, division\n",
    "\n",
    "import numpy as np\n",
    "import time\n",
    "import os\n",
    "import copy\n",
    "import PIL\n",
    "import sys\n",
    "import pickle\n",
    "\n",
    "from tqdm import tqdm_notebook as tqdm\n",
    "import seaborn as sns\n",
    "\n",
    "# PyTorch\n",
    "import torch\n",
    "import torch.nn as nn\n",
    "import torch.optim as optim\n",
    "from torch.utils.data import DataLoader, Subset\n",
    "from torch.optim import lr_scheduler\n",
    "from torchsummary import summary\n",
    "\n",
    "import torchvision\n",
    "from torchvision import datasets, models, transforms\n",
    "#from albumentations import Compose, RandomCrop, Normalize, HorizontalFlip, Resize\n",
    "#from albumentations.pytorch import ToTensor\n",
    "\n",
    "\n",
    "# Plots\n",
    "import matplotlib.pyplot as plt\n",
    "%matplotlib inline\n",
    "\n",
    "plt.ion()   # interactive mode"
   ]
  },
  {
   "cell_type": "code",
   "execution_count": 2,
   "metadata": {},
   "outputs": [],
   "source": [
    "sns.set(rc={\"figure.figsize\": (15, 6)})\n",
    "sns.set_palette(sns.color_palette(\"Set2\", 10))\n",
    "sns.set_style(\"whitegrid\", {'axes.grid' : False})"
   ]
  },
  {
   "cell_type": "markdown",
   "metadata": {},
   "source": [
    "## Local functions"
   ]
  },
  {
   "cell_type": "code",
   "execution_count": 3,
   "metadata": {},
   "outputs": [],
   "source": [
    "from dataset import *\n",
    "from train import train_model\n",
    "from show import *\n",
    "from constants import *"
   ]
  },
  {
   "cell_type": "code",
   "execution_count": 31,
   "metadata": {},
   "outputs": [
    {
     "data": {
      "text/plain": [
       "device(type='cuda', index=1)"
      ]
     },
     "execution_count": 31,
     "metadata": {},
     "output_type": "execute_result"
    }
   ],
   "source": [
    "device = torch.device(\"cuda:1\" if torch.cuda.is_available() else \"cpu\")\n",
    "device"
   ]
  },
  {
   "cell_type": "markdown",
   "metadata": {},
   "source": [
    "# Constants"
   ]
  },
  {
   "cell_type": "code",
   "execution_count": 32,
   "metadata": {},
   "outputs": [],
   "source": [
    "SEED = 238122"
   ]
  },
  {
   "cell_type": "markdown",
   "metadata": {},
   "source": [
    "# Loading Data"
   ]
  },
  {
   "cell_type": "markdown",
   "metadata": {},
   "source": [
    "## Transform data"
   ]
  },
  {
   "cell_type": "code",
   "execution_count": 77,
   "metadata": {},
   "outputs": [],
   "source": [
    "dataset = FacadesDatasetH5Patches(to_file_path('images_copy', 'hdf5'), normalized=True)"
   ]
  },
  {
   "cell_type": "markdown",
   "metadata": {},
   "source": [
    "# Validation Set"
   ]
  },
  {
   "cell_type": "code",
   "execution_count": 34,
   "metadata": {},
   "outputs": [],
   "source": [
    "num_crops_per_images = pickle.load(open(to_file_path('crops', 'p'), \"rb\" ))\n",
    "crops_from_to_idx = []\n",
    "from_ = 0\n",
    "to = 0\n",
    "for n in num_crops_per_images:\n",
    "    to += n\n",
    "    crops_from_to_idx.append((from_, to))\n",
    "    from_ += n"
   ]
  },
  {
   "cell_type": "code",
   "execution_count": 35,
   "metadata": {},
   "outputs": [],
   "source": [
    "def img_idx_to_crop_idx(indices):\n",
    "    return np.array([j for i in indices for j in range(*crops_from_to_idx[i])])"
   ]
  },
  {
   "cell_type": "code",
   "execution_count": 36,
   "metadata": {},
   "outputs": [],
   "source": [
    "def lenghts_split(size, perc):\n",
    "    train_l =  int(0.9 * size)\n",
    "    return train_l, size - train_l"
   ]
  },
  {
   "cell_type": "code",
   "execution_count": 37,
   "metadata": {},
   "outputs": [
    {
     "data": {
      "text/plain": [
       "(4280, 496)"
      ]
     },
     "execution_count": 37,
     "metadata": {},
     "output_type": "execute_result"
    }
   ],
   "source": [
    "np.random.seed(SEED)\n",
    "img_indices = np.random.permutation(len(num_crops_per_images))\n",
    "n_img_train, n_img_val = lenghts_split(len(num_crops_per_images), .9)\n",
    "train_ind = img_idx_to_crop_idx(img_indices[:n_img_train])\n",
    "train_ind = train_ind[np.random.permutation(len(train_ind))]\n",
    "val_ind = img_idx_to_crop_idx(img_indices[n_img_train:])\n",
    "val_ind = val_ind[np.random.permutation(len(val_ind))]\n",
    "\n",
    "len(train_ind), len(val_ind)"
   ]
  },
  {
   "cell_type": "code",
   "execution_count": 38,
   "metadata": {},
   "outputs": [],
   "source": [
    "train_dataset = Subset(dataset, train_ind)\n",
    "val_dataset = Subset(dataset, val_ind)"
   ]
  },
  {
   "cell_type": "code",
   "execution_count": 39,
   "metadata": {},
   "outputs": [],
   "source": [
    "batch_size = 8"
   ]
  },
  {
   "cell_type": "code",
   "execution_count": 74,
   "metadata": {},
   "outputs": [],
   "source": [
    "def to_dataloader(dataset):\n",
    "    return DataLoader(dataset, batch_size=batch_size, shuffle=True, num_workers=0)"
   ]
  },
  {
   "cell_type": "code",
   "execution_count": 75,
   "metadata": {},
   "outputs": [],
   "source": [
    "dataloaders = {'train': to_dataloader(train_dataset), 'val': to_dataloader(val_dataset)}"
   ]
  },
  {
   "cell_type": "code",
   "execution_count": 42,
   "metadata": {},
   "outputs": [],
   "source": [
    "dataset_sizes = {phase: len(dataloaders[phase]) for phase in ['train', 'val']}"
   ]
  },
  {
   "cell_type": "code",
   "execution_count": 43,
   "metadata": {},
   "outputs": [
    {
     "data": {
      "text/plain": [
       "{'train': 535, 'val': 62}"
      ]
     },
     "execution_count": 43,
     "metadata": {},
     "output_type": "execute_result"
    }
   ],
   "source": [
    "dataset_sizes"
   ]
  },
  {
   "cell_type": "markdown",
   "metadata": {},
   "source": [
    "# Statistics"
   ]
  },
  {
   "cell_type": "code",
   "execution_count": 44,
   "metadata": {},
   "outputs": [
    {
     "data": {
      "application/vnd.jupyter.widget-view+json": {
       "model_id": "87b32617111d4a5b89f86c1ab8cf190e",
       "version_major": 2,
       "version_minor": 0
      },
      "text/plain": [
       "HBox(children=(IntProgress(value=0, max=535), HTML(value='')))"
      ]
     },
     "metadata": {},
     "output_type": "display_data"
    },
    {
     "name": "stdout",
     "output_type": "stream",
     "text": [
      "\n"
     ]
    }
   ],
   "source": [
    "class_weights = {v: 0 for _, v in dataset.labels.items()}\n",
    "for data in tqdm(dataloaders['train']):\n",
    "    lbl = data['label'].to(device)\n",
    "    for v in class_weights:\n",
    "        class_weights[v] += (lbl == torch.tensor(v).to(device)).sum().float() / lbl.nelement()\n",
    "        \n",
    "for v in class_weights:\n",
    "    class_weights[v] /= len(dataloaders['train'])"
   ]
  },
  {
   "cell_type": "code",
   "execution_count": 45,
   "metadata": {},
   "outputs": [
    {
     "data": {
      "text/plain": [
       "({0: tensor(0.2239, device='cuda:1'),\n",
       "  1: tensor(0.0291, device='cuda:1'),\n",
       "  2: tensor(0.0652, device='cuda:1'),\n",
       "  3: tensor(0.6121, device='cuda:1'),\n",
       "  4: tensor(0.0697, device='cuda:1')},\n",
       " 0.9999999292194843)"
      ]
     },
     "execution_count": 45,
     "metadata": {},
     "output_type": "execute_result"
    }
   ],
   "source": [
    "class_weights, sum([t.item() for _, t in class_weights.items()])"
   ]
  },
  {
   "cell_type": "code",
   "execution_count": 46,
   "metadata": {},
   "outputs": [
    {
     "data": {
      "text/plain": [
       "tensor([0.7761, 0.9709, 0.9348, 0.3879, 0.9303], device='cuda:1')"
      ]
     },
     "execution_count": 46,
     "metadata": {},
     "output_type": "execute_result"
    }
   ],
   "source": [
    "weights = torch.tensor([1 - w for _, w in class_weights.items()]).to(device)\n",
    "weights"
   ]
  },
  {
   "cell_type": "markdown",
   "metadata": {},
   "source": [
    "# Using AlbuNet"
   ]
  },
  {
   "cell_type": "code",
   "execution_count": 47,
   "metadata": {},
   "outputs": [],
   "source": [
    "from models import AlbuNet"
   ]
  },
  {
   "cell_type": "code",
   "execution_count": 48,
   "metadata": {},
   "outputs": [],
   "source": [
    "albunet = AlbuNet(\n",
    "    num_classes=len(dataset.labels),\n",
    "    num_filters=16,\n",
    "    pretrained=True,\n",
    "    is_deconv=False,\n",
    ")"
   ]
  },
  {
   "cell_type": "markdown",
   "metadata": {},
   "source": [
    "## Model details"
   ]
  },
  {
   "cell_type": "code",
   "execution_count": 61,
   "metadata": {},
   "outputs": [
    {
     "data": {
      "text/plain": [
       "'cuda:1'"
      ]
     },
     "execution_count": 61,
     "metadata": {},
     "output_type": "execute_result"
    }
   ],
   "source": []
  },
  {
   "cell_type": "code",
   "execution_count": 63,
   "metadata": {},
   "outputs": [],
   "source": [
    "%%capture catching_output\n",
    "summary(albunet.to('cuda'), input_size=dataset[0]['image'].shape)"
   ]
  },
  {
   "cell_type": "code",
   "execution_count": 64,
   "metadata": {},
   "outputs": [
    {
     "name": "stdout",
     "output_type": "stream",
     "text": [
      "Writing 'summary_txt' (str) to file 'models_summary/albunet_summary.txt'.\n"
     ]
    }
   ],
   "source": [
    "summary_txt = catching_output.stdout\n",
    "%store summary_txt > \"models_summary/albunet_summary.txt\""
   ]
  },
  {
   "cell_type": "code",
   "execution_count": 65,
   "metadata": {},
   "outputs": [
    {
     "name": "stdout",
     "output_type": "stream",
     "text": [
      "================================================================\n",
      "Total params: 47,466,965\n",
      "Trainable params: 47,466,965\n",
      "Non-trainable params: 0\n",
      "----------------------------------------------------------------\n",
      "Input size (MB): 0.75\n",
      "Forward/backward pass size (MB): 547.75\n",
      "Params size (MB): 181.07\n",
      "Estimated Total Size (MB): 729.57\n",
      "----------------------------------------------------------------\n"
     ]
    }
   ],
   "source": [
    "separator = \"=\" * 10\n",
    "counter = 0\n",
    "for l in iter(summary_txt.splitlines()):\n",
    "    if separator in l:\n",
    "        counter += 1\n",
    "    if counter > 1:\n",
    "        print(l)"
   ]
  },
  {
   "cell_type": "markdown",
   "metadata": {},
   "source": [
    "# Training"
   ]
  },
  {
   "cell_type": "code",
   "execution_count": 66,
   "metadata": {},
   "outputs": [],
   "source": [
    "from tensorboardX import SummaryWriter\n",
    "writer = SummaryWriter()"
   ]
  },
  {
   "cell_type": "code",
   "execution_count": 82,
   "metadata": {},
   "outputs": [],
   "source": [
    "from torch.nn import functional as F\n",
    "\n",
    "def dice_loss(logits, true, eps=1e-7):\n",
    "    \"\"\"Computes the Sørensen–Dice loss.\n",
    "    Note that PyTorch optimizers minimize a loss. In this\n",
    "    case, we would like to maximize the dice loss so we\n",
    "    return the negated dice loss.\n",
    "    Args:\n",
    "        logits: a tensor of shape [B, C, H, W]. Corresponds to\n",
    "            the raw output or logits of the model.\n",
    "        true: a tensor of shape [B, 1, H, W].\n",
    "        eps: added to the denominator for numerical stability.\n",
    "    Returns:\n",
    "        dice_loss: the Sørensen–Dice loss.\n",
    "    \"\"\"\n",
    "    num_classes = logits.shape[1]\n",
    "    if num_classes == 1:\n",
    "        true_1_hot = torch.eye(num_classes + 1)[true.squeeze(1)].to(device)\n",
    "        true_1_hot = true_1_hot.permute(0, 3, 1, 2).float()\n",
    "        true_1_hot_f = true_1_hot[:, 0:1, :, :]\n",
    "        true_1_hot_s = true_1_hot[:, 1:2, :, :]\n",
    "        true_1_hot = torch.cat([true_1_hot_s, true_1_hot_f], dim=1)\n",
    "        pos_prob = torch.sigmoid(logits)\n",
    "        neg_prob = 1 - pos_prob\n",
    "        probas = torch.cat([pos_prob, neg_prob], dim=1)\n",
    "    else:\n",
    "        true_1_hot = torch.eye(num_classes)[true.squeeze(1)].to(device)\n",
    "        true_1_hot = true_1_hot.permute(0, 3, 1, 2).float()\n",
    "        probas = F.softmax(logits, dim=1)\n",
    "    true_1_hot = true_1_hot.type(logits.type())\n",
    "    dims = (0,) + tuple(range(2, true.ndimension()))\n",
    "    intersection = torch.sum(probas * true_1_hot, dims)\n",
    "    cardinality = torch.sum(probas + true_1_hot, dims)\n",
    "    dice_loss = (2. * intersection / (cardinality + eps)).mean()\n",
    "    return (1 - dice_loss)"
   ]
  },
  {
   "cell_type": "code",
   "execution_count": 83,
   "metadata": {},
   "outputs": [],
   "source": [
    "criterion = dice_loss#nn.CrossEntropyLoss(weights)\n",
    "optimizer = optim.Adam(albunet.parameters())\n",
    "exp_lr_scheduler = lr_scheduler.StepLR(optimizer, step_size=7, gamma=0.1)"
   ]
  },
  {
   "cell_type": "code",
   "execution_count": 84,
   "metadata": {},
   "outputs": [
    {
     "name": "stdout",
     "output_type": "stream",
     "text": [
      "Epoch 0/19\n",
      "----------\n"
     ]
    },
    {
     "data": {
      "application/vnd.jupyter.widget-view+json": {
       "model_id": "2bbc51acbf51475997c4d7754670f5a0",
       "version_major": 2,
       "version_minor": 0
      },
      "text/plain": [
       "HBox(children=(IntProgress(value=0, max=535), HTML(value='')))"
      ]
     },
     "metadata": {},
     "output_type": "display_data"
    },
    {
     "name": "stdout",
     "output_type": "stream",
     "text": [
      "\n",
      "Training complete in 0m 4s\n",
      "Best val Loss: 9223372036854775808.000000\n",
      "Best val Acc: 0.000000\n"
     ]
    }
   ],
   "source": [
    "albunet = train_model(\n",
    "    device=device,\n",
    "    dataloaders=dataloaders,\n",
    "    dataset_sizes=dataset_sizes,\n",
    "    path_to_data=path_to_data,\n",
    "    model_name=to_name('albunet_dice2'),\n",
    "    model=albunet.to(device),\n",
    "    criterion=criterion,\n",
    "    optimizer=optimizer,\n",
    "    scheduler=exp_lr_scheduler,\n",
    "    writer=writer,\n",
    "    num_epochs=20\n",
    ")"
   ]
  },
  {
   "cell_type": "code",
   "execution_count": 132,
   "metadata": {},
   "outputs": [],
   "source": [
    "albunet.load_state_dict(torch.load(\"{}/models/model_albunet_dice_cropped100_256_1024_14.torch\".format(path_to_data)))"
   ]
  },
  {
   "cell_type": "code",
   "execution_count": 133,
   "metadata": {},
   "outputs": [],
   "source": [
    "def iou(pred, target, n_classes = 12):\n",
    "    ious = []\n",
    "    pred = pred.view(-1)\n",
    "    target = target.view(-1)\n",
    "\n",
    "    # Ignore IoU for background class (\"0\")\n",
    "    for cls in xrange(1, n_classes):  # This goes from 1:n_classes-1 -> class \"0\" is ignored\n",
    "        pred_inds = pred == cls\n",
    "        target_inds = target == cls\n",
    "        intersection = (pred_inds[target_inds]).long().sum().data.cpu()[0]  # Cast to long to prevent overflows\n",
    "        union = pred_inds.long().sum().data.cpu()[0] + target_inds.long().sum().data.cpu()[0] - intersection\n",
    "        if union == 0:\n",
    "            ious.append(float('nan'))  # If there is no ground truth, do not include in evaluation\n",
    "        else:\n",
    "            ious.append(float(intersection) / float(max(union, 1)))\n",
    "    return np.array(ious)"
   ]
  },
  {
   "cell_type": "markdown",
   "metadata": {},
   "source": [
    "# Showing Predictions"
   ]
  },
  {
   "cell_type": "code",
   "execution_count": 134,
   "metadata": {},
   "outputs": [],
   "source": [
    "crop_to_img_list = [img_idx for img_idx, (from_, to) in enumerate(crops_from_to_idx) for i in range(from_, to)]\n",
    "def crop_to_img(crop_idx):\n",
    "    return crop_to_img_list[crop_idx]\n",
    "\n",
    "val_images = sorted(list({crop_to_img(i) for i in val_ind}))\n",
    "assert len(val_images) == n_img_val"
   ]
  },
  {
   "cell_type": "code",
   "execution_count": 135,
   "metadata": {},
   "outputs": [],
   "source": [
    "def val_img_predict(idx):\n",
    "    crops_to_show = img_idx_to_crop_idx(val_images[idx_to_show:idx_to_show+1])\n",
    "    image_to_show = torch.stack([dataset[i]['image'] for i in crops_to_show])\n",
    "    label_to_show = torch.stack([dataset[i]['label'] for i in crops_to_show])\n",
    "    outputs = albunet(image_to_show.to(device))\n",
    "    _, pred = torch.max(outputs, 1)\n",
    "    return image_to_show, pred, label_to_show"
   ]
  },
  {
   "cell_type": "code",
   "execution_count": 136,
   "metadata": {},
   "outputs": [],
   "source": [
    "pred_acc = []\n",
    "for idx_to_show in range(len(val_images)):\n",
    "    _, pred, label_to_show = val_img_predict(idx_to_show)\n",
    "    pred_cmp = label_to_show.squeeze().to(device) == pred\n",
    "    pred_acc.append(pred_cmp.sum().item() / pred_cmp.nelement())"
   ]
  },
  {
   "cell_type": "code",
   "execution_count": 137,
   "metadata": {},
   "outputs": [],
   "source": [
    "padding = 10"
   ]
  },
  {
   "cell_type": "code",
   "execution_count": 147,
   "metadata": {},
   "outputs": [
    {
     "data": {
      "text/plain": [
       "(31, 0.8775990804036459)"
      ]
     },
     "execution_count": 147,
     "metadata": {},
     "output_type": "execute_result"
    }
   ],
   "source": [
    "idx_to_show = np.argmax(pred_acc)\n",
    "n_row = 4\n",
    "image_to_show, pred, label_to_show = val_img_predict(idx_to_show)\n",
    "idx_to_show, pred_acc[idx_to_show]"
   ]
  },
  {
   "cell_type": "code",
   "execution_count": 148,
   "metadata": {},
   "outputs": [
    {
     "data": {
      "image/png": "[encoded data removed]",
      "text/plain": [
       "<Figure size 1080x432 with 1 Axes>"
      ]
     },
     "metadata": {},
     "output_type": "display_data"
    },
    {
     "data": {
      "image/png": "[encoded data removed]",
      "text/plain": [
       "<Figure size 1080x432 with 1 Axes>"
      ]
     },
     "metadata": {},
     "output_type": "display_data"
    }
   ],
   "source": [
    "show_img(utils.make_grid(pred.unsqueeze(1).cpu(), nrow=n_row, padding=padding)[0].numpy())\n",
    "show_img(utils.make_grid(label_to_show.cpu(), nrow=n_row, padding=padding)[0].numpy())"
   ]
  },
  {
   "cell_type": "code",
   "execution_count": 159,
   "metadata": {},
   "outputs": [
    {
     "data": {
      "text/plain": [
       "(1, 0.4928016662597656)"
      ]
     },
     "execution_count": 159,
     "metadata": {},
     "output_type": "execute_result"
    }
   ],
   "source": [
    "idx_to_show = np.argmin(pred_acc)\n",
    "n_row = 4\n",
    "image_to_show, pred, label_to_show = val_img_predict(idx_to_show)\n",
    "idx_to_show, pred_acc[idx_to_show]"
   ]
  },
  {
   "cell_type": "code",
   "execution_count": 160,
   "metadata": {},
   "outputs": [
    {
     "data": {
      "image/png": "[encoded data removed]",
      "text/plain": [
       "<Figure size 1080x432 with 1 Axes>"
      ]
     },
     "metadata": {},
     "output_type": "display_data"
    },
    {
     "data": {
      "image/png": "[encoded data removed]",
      "text/plain": [
       "<Figure size 1080x432 with 1 Axes>"
      ]
     },
     "metadata": {},
     "output_type": "display_data"
    }
   ],
   "source": [
    "show_img(utils.make_grid(pred.unsqueeze(1).cpu(), nrow=n_row, padding=padding)[0].numpy())\n",
    "show_img(utils.make_grid(label_to_show.cpu(), nrow=n_row, padding=padding)[0].numpy())"
   ]
  },
  {
   "cell_type": "code",
   "execution_count": 161,
   "metadata": {},
   "outputs": [
    {
     "data": {
      "text/plain": [
       "(41, 0.7855520248413086)"
      ]
     },
     "execution_count": 161,
     "metadata": {},
     "output_type": "execute_result"
    }
   ],
   "source": [
    "idx_to_show = len(pred_acc)-1\n",
    "n_row = 4\n",
    "image_to_show, pred, label_to_show = val_img_predict(idx_to_show)\n",
    "idx_to_show, pred_acc[idx_to_show]"
   ]
  },
  {
   "cell_type": "code",
   "execution_count": 152,
   "metadata": {},
   "outputs": [
    {
     "data": {
      "image/png": "[encoded data removed]",
      "text/plain": [
       "<Figure size 1080x432 with 1 Axes>"
      ]
     },
     "metadata": {},
     "output_type": "display_data"
    },
    {
     "data": {
      "image/png": "[encoded data removed]",
      "text/plain": [
       "<Figure size 1080x432 with 1 Axes>"
      ]
     },
     "metadata": {},
     "output_type": "display_data"
    }
   ],
   "source": [
    "show_img(utils.make_grid(pred.unsqueeze(1).cpu(), nrow=n_row, padding=padding)[0].numpy())\n",
    "show_img(utils.make_grid(label_to_show.cpu(), nrow=n_row, padding=padding)[0].numpy())"
   ]
  },
  {
   "cell_type": "code",
   "execution_count": null,
   "metadata": {},
   "outputs": [],
   "source": []
  }
 ],
 "metadata": {
  "kernelspec": {
   "display_name": "Python 3",
   "language": "python",
   "name": "python3"
  },
  "language_info": {
   "codemirror_mode": {
    "name": "ipython",
    "version": 3
   },
   "file_extension": ".py",
   "mimetype": "text/x-python",
   "name": "python",
   "nbconvert_exporter": "python",
   "pygments_lexer": "ipython3",
   "version": "3.5.2"
  }
 },
 "nbformat": 4,
 "nbformat_minor": 2
}

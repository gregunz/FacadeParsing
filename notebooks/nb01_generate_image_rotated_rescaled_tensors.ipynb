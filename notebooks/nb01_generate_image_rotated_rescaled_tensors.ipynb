{
 "cells": [
  {
   "cell_type": "code",
   "execution_count": 1,
   "metadata": {},
   "outputs": [],
   "source": [
    "import os\n",
    "import random\n",
    "import torch\n",
    "import json\n",
    "import sys\n",
    "\n",
    "import torchvision.transforms as T\n",
    "from tqdm.auto import tqdm"
   ]
  },
  {
   "cell_type": "code",
   "execution_count": 2,
   "metadata": {},
   "outputs": [],
   "source": [
    "from facade_project import FACADE_LABELME_ORIGINAL_DIR, FACADE_IMAGES_DIR, LABEL_NAME_TO_VALUE, PATH_TO_DATA, IMG_MAX_SIZE\n",
    "from facade_project.utils.load import load_tuple_from_json\n",
    "from facade_project.geometry.heatmap import extract_heatmaps_info\n",
    "from facade_project.geometry.masks import crop_pil, get_bbox\n",
    "from facade_project.geometry.image import resize, rotate\n",
    "from facade_project.geometry.heatmap import \\\n",
    "    rotate as rotate_info,\\\n",
    "    crop as crop_info,\\\n",
    "    resize as resize_info"
   ]
  },
  {
   "cell_type": "code",
   "execution_count": 3,
   "metadata": {},
   "outputs": [
    {
     "data": {
      "text/plain": [
       "418"
      ]
     },
     "execution_count": 3,
     "metadata": {},
     "output_type": "execute_result"
    }
   ],
   "source": [
    "img_paths = [os.path.join(FACADE_LABELME_ORIGINAL_DIR, fname) for fname in sorted(os.listdir(FACADE_LABELME_ORIGINAL_DIR))]\n",
    "\n",
    "len(img_paths)"
   ]
  },
  {
   "cell_type": "markdown",
   "metadata": {},
   "source": [
    "# Cut border given a ratio"
   ]
  },
  {
   "cell_type": "code",
   "execution_count": 5,
   "metadata": {},
   "outputs": [],
   "source": [
    "def cut_borders(img, lbl):\n",
    "    ratios = [1, 4/3, 3/4]\n",
    "    \n",
    "    bbox = get_bbox(lbl)\n",
    "    \n",
    "    best_ratio_dist = sys.maxsize\n",
    "    closest_ratio = None\n",
    "    best_bbox = None\n",
    "    for ratio in ratios:\n",
    "        bbox_extended, ratio_dist = extend_bbox_for_ratio(img.size, bbox, ratio)\n",
    "        if ratio_dist < best_ratio_dist:\n",
    "            best_ratio_dist = ratio_dist\n",
    "            closest_ratio = ratio\n",
    "            best_bbox = bbox_extended\n",
    "    \n",
    "    bbox = best_bbox\n",
    "    width, height = img.size\n",
    "    tl_x, tl_y, br_x, br_y = bbox\n",
    "    assert tl_x >= 0, '{} >= {}'.format(tl_x, 0)\n",
    "    assert tl_y >= 0, '{} >= {}'.format(tl_y, 0)\n",
    "    assert br_x <= width, '{} <= {}'.format(br_x, width)\n",
    "    assert br_y <= height, '{} <= {}'.format(br_y, height)\n",
    "    \n",
    "    return crop_pil(img, bbox), crop_pil(lbl, bbox), bbox, closest_ratio"
   ]
  },
  {
   "cell_type": "code",
   "execution_count": 4,
   "metadata": {},
   "outputs": [],
   "source": [
    "def extend_bbox_for_ratio(dim, bbox, ratio):\n",
    "    width, height = dim\n",
    "    tl_x, tl_y, br_x, br_y = bbox\n",
    "    matched_ratio = False\n",
    "\n",
    "    bbox_width = br_x - tl_x\n",
    "    bbox_height = br_y - tl_y\n",
    "    bbox_ratio = bbox_width / bbox_height\n",
    "    \n",
    "    \n",
    "    if bbox_ratio < ratio:\n",
    "        missing_width = round(ratio * bbox_height - bbox_width)\n",
    "        slack_left = tl_x\n",
    "        slack_right = width - br_x\n",
    "        width_slack = slack_left + slack_right\n",
    "        \n",
    "        if width_slack >= missing_width:\n",
    "            matched_ratio = True\n",
    "            # good new -> enough slack\n",
    "            if slack_left <= slack_right:\n",
    "                left_add = min(slack_left, missing_width//2)\n",
    "                right_add = missing_width - left_add\n",
    "            else:\n",
    "                right_add = min(slack_right, missing_width//2)\n",
    "                left_add = missing_width - right_add\n",
    "        else:\n",
    "            left_add = slack_left\n",
    "            right_add = slack_right\n",
    "        \n",
    "        bbox = tl_x - left_add, tl_y, br_x + right_add, br_y   \n",
    "        \n",
    "    elif bbox_ratio >= ratio:\n",
    "        missing_height = round(bbox_width / ratio - bbox_height)\n",
    "        slack_top = tl_y\n",
    "        slack_bottom = height - br_y\n",
    "        height_slack = slack_top + slack_bottom\n",
    "        \n",
    "        if height_slack > missing_height:\n",
    "            matched_ratio = True\n",
    "            if slack_top <= slack_bottom:\n",
    "                top_add = min(slack_top, missing_height//2)\n",
    "                bottom_add = missing_height - top_add\n",
    "            else:\n",
    "                bottom_add = min(slack_bottom, missing_height//2)\n",
    "                top_add = missing_height - bottom_add\n",
    "        else:\n",
    "            top_add = slack_top\n",
    "            bottom_add = slack_bottom \n",
    "        \n",
    "        bbox = tl_x, tl_y - top_add, br_x, br_y + bottom_add\n",
    "        \n",
    "    ratio_dist = 0\n",
    "    if not matched_ratio:\n",
    "        tl_x, tl_y, br_x, br_y = bbox\n",
    "        bbox_width = br_x - tl_x\n",
    "        bbox_height = br_y - tl_y\n",
    "        bbox_ratio = bbox_width / bbox_height\n",
    "        ratio_dist = abs(ratio - bbox_ratio) / ratio\n",
    "    return bbox, ratio_dist"
   ]
  },
  {
   "cell_type": "markdown",
   "metadata": {},
   "source": [
    "# Generate\n",
    "Only run this to generate the data"
   ]
  },
  {
   "cell_type": "code",
   "execution_count": 7,
   "metadata": {},
   "outputs": [
    {
     "data": {
      "application/vnd.jupyter.widget-view+json": {
       "model_id": "f013ea5686dd46f0adc1b822dbfaad82",
       "version_major": 2,
       "version_minor": 0
      },
      "text/plain": [
       "HBox(children=(IntProgress(value=0, max=418), HTML(value='')))"
      ]
     },
     "metadata": {},
     "output_type": "display_data"
    },
    {
     "name": "stdout",
     "output_type": "stream",
     "text": [
      "\n"
     ]
    }
   ],
   "source": [
    "# in case we want to add more rotations\n",
    "rotation_offset = 0\n",
    "num_rot = 5\n",
    "max_size = IMG_MAX_SIZE\n",
    "dir_name = '{}/images/tensor/rotated_rescaled'.format(PATH_TO_DATA)\n",
    "heatmap_infos_path = '{}/heatmaps/json/heatmaps_infos_rotated_rescaled.json'.format(PATH_TO_DATA)\n",
    "heatmap_infos = dict()\n",
    "\n",
    "for idx, path in enumerate(tqdm(img_paths)):\n",
    "    heatmap_info = extract_heatmaps_info(json.load(open(path, mode='r')))\n",
    "    \n",
    "    img_original, lbl_original = load_tuple_from_json(path)\n",
    "    img_pil, lbl_pil = T.ToPILImage()(img_original), T.ToPILImage()(lbl_original)\n",
    "    \n",
    "    if idx not in heatmap_infos:\n",
    "        heatmap_infos[idx] = dict()\n",
    "    \n",
    "    for jdx in range(num_rot):\n",
    "        \n",
    "        info = heatmap_info\n",
    "        \n",
    "        #saving the original as jdx = 0\n",
    "        if jdx + rotation_offset > 0:\n",
    "            angle = random.randint(1, 10)\n",
    "            if random.randint(0,1) == 0:\n",
    "                angle *= -1\n",
    "            info = rotate_info(info, angle)\n",
    "            img = rotate(img_pil, angle, itp_name='BI')\n",
    "            lbl = rotate(lbl_pil, angle, itp_name='NN')\n",
    "            # cut borders\n",
    "            img, lbl, bbox, closest_ratio = cut_borders(img, lbl)\n",
    "        else:\n",
    "            img, lbl, bbox, closest_ratio = cut_borders(img_pil, lbl_pil)\n",
    "            \n",
    "        info = crop_info(info, bbox)\n",
    "        \n",
    "        # resize\n",
    "        max_width = max_size\n",
    "        max_height = max_size\n",
    "        if closest_ratio > 1:\n",
    "            max_width = max_size\n",
    "            max_height = round(max_size / closest_ratio)\n",
    "        elif closest_ratio < 1:\n",
    "            max_height = max_size\n",
    "            max_width = round(max_size * closest_ratio)\n",
    "            \n",
    "        resize_size = (max_height, max_width)\n",
    "        img = resize(img, size=resize_size, itp_name='BI')\n",
    "        lbl = resize(lbl, size=resize_size, itp_name='NN')\n",
    "        info = resize_info(info, resize_size)\n",
    "        \n",
    "        #print(img.size)\n",
    "        img = T.ToTensor()(img)\n",
    "        lbl = (T.ToTensor()(lbl) * 255).int()\n",
    "                \n",
    "        heatmap_infos[idx][jdx] = info\n",
    "        \n",
    "        json.dump(heatmap_infos, open(heatmap_infos_path, mode='w'))\n",
    "        torch.save(img, '{}/img_{:03d}_{:03d}.torch'.format(dir_name, idx, jdx + rotation_offset))\n",
    "        torch.save(lbl, '{}/lbl_{:03d}_{:03d}.torch'.format(dir_name, idx, jdx + rotation_offset))\n"
   ]
  },
  {
   "cell_type": "code",
   "execution_count": null,
   "metadata": {},
   "outputs": [],
   "source": []
  }
 ],
 "metadata": {
  "kernelspec": {
   "display_name": "Python 3",
   "language": "python",
   "name": "python3"
  },
  "language_info": {
   "codemirror_mode": {
    "name": "ipython",
    "version": 3
   },
   "file_extension": ".py",
   "mimetype": "text/x-python",
   "name": "python",
   "nbconvert_exporter": "python",
   "pygments_lexer": "ipython3",
   "version": "3.6.7"
  }
 },
 "nbformat": 4,
 "nbformat_minor": 2
}

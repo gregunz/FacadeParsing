{
 "cells": [
  {
   "cell_type": "code",
   "execution_count": 1,
   "metadata": {},
   "outputs": [],
   "source": [
    "import os\n",
    "import pathlib\n",
    "\n",
    "from tqdm.auto import tqdm"
   ]
  },
  {
   "cell_type": "code",
   "execution_count": 2,
   "metadata": {},
   "outputs": [],
   "source": [
    "from facade_project import FACADE_LABELME_ORIGINAL_DIR, FACADE_IMAGES_DIR, LABEL_NAME_TO_VALUE, NUM_IMAGES"
   ]
  },
  {
   "cell_type": "code",
   "execution_count": 3,
   "metadata": {},
   "outputs": [
    {
     "data": {
      "text/plain": [
       "418"
      ]
     },
     "execution_count": 3,
     "metadata": {},
     "output_type": "execute_result"
    }
   ],
   "source": [
    "img_paths = [os.path.join(FACADE_LABELME_ORIGINAL_DIR, fname) for fname in sorted(os.listdir(FACADE_LABELME_ORIGINAL_DIR))]\n",
    "\n",
    "len(img_paths)"
   ]
  },
  {
   "cell_type": "markdown",
   "metadata": {},
   "source": [
    "# From Labelme to COCO"
   ]
  },
  {
   "cell_type": "code",
   "execution_count": 4,
   "metadata": {},
   "outputs": [],
   "source": [
    "from facade_project.coco.from_labelme import Labelme2coco"
   ]
  },
  {
   "cell_type": "code",
   "execution_count": 5,
   "metadata": {},
   "outputs": [],
   "source": [
    "def create_coco_ann_and_images_dir(json_files, dir_name, name_suffix, selected_classes=LABEL_NAME_TO_VALUE):\n",
    "    data_dir = '{}/coco/{}'.format(FACADE_IMAGES_DIR, dir_name)\n",
    "    img_dir = '{}/images/{}'.format(data_dir, name_suffix)\n",
    "    pathlib.Path(img_dir).mkdir(parents=True, exist_ok=True)\n",
    "    l2c_obj = Labelme2coco(\n",
    "        json_files,\n",
    "        '{}/ann_{}.json'.format(data_dir, name_suffix),\n",
    "        only_labels=selected_classes,\n",
    "        save_img_dir=img_dir,\n",
    "    )\n",
    "    l2c_obj.save_json()\n",
    "    return l2c_obj"
   ]
  },
  {
   "cell_type": "markdown",
   "metadata": {},
   "source": [
    "# Split train - val"
   ]
  },
  {
   "cell_type": "code",
   "execution_count": 6,
   "metadata": {},
   "outputs": [],
   "source": [
    "from facade_project.data import get_indices_split"
   ]
  },
  {
   "cell_type": "code",
   "execution_count": 7,
   "metadata": {},
   "outputs": [],
   "source": [
    "train_ind, val_ind = get_indices_split(NUM_IMAGES)"
   ]
  },
  {
   "cell_type": "code",
   "execution_count": 8,
   "metadata": {},
   "outputs": [],
   "source": [
    "train_json = [img_paths[i] for i in train_ind]\n",
    "val_json = [img_paths[i] for i in val_ind]"
   ]
  },
  {
   "cell_type": "markdown",
   "metadata": {},
   "source": [
    "# Generate\n",
    "Run this only to generate the coco dataset again (careful about overwriting old ones)"
   ]
  },
  {
   "cell_type": "markdown",
   "metadata": {},
   "source": [
    "## Training"
   ]
  },
  {
   "cell_type": "code",
   "execution_count": null,
   "metadata": {},
   "outputs": [
    {
     "data": {
      "application/vnd.jupyter.widget-view+json": {
       "model_id": "c1d5121084eb4a5a9910ac91f3f6f91b",
       "version_major": 2,
       "version_minor": 0
      },
      "text/plain": [
       "HBox(children=(IntProgress(value=0, max=376), HTML(value='')))"
      ]
     },
     "metadata": {},
     "output_type": "display_data"
    }
   ],
   "source": [
    "l2c_obj = create_coco_ann_and_images_dir(\n",
    "    json_files=train_json,\n",
    "    dir_name='original',\n",
    "    name_suffix='train',\n",
    ")"
   ]
  },
  {
   "cell_type": "markdown",
   "metadata": {},
   "source": [
    "## Validation"
   ]
  },
  {
   "cell_type": "code",
   "execution_count": null,
   "metadata": {},
   "outputs": [],
   "source": [
    "create_coco_ann_and_images_dir(\n",
    "    json_files=val_json,\n",
    "    dir_name='original',\n",
    "    name_suffix='val',\n",
    ");"
   ]
  },
  {
   "cell_type": "markdown",
   "metadata": {},
   "source": [
    "# Display\n",
    "This code is adapted from original code on http://cocodataset.org/"
   ]
  },
  {
   "cell_type": "code",
   "execution_count": null,
   "metadata": {},
   "outputs": [],
   "source": [
    "%matplotlib inline\n",
    "from pycocotools.coco import COCO\n",
    "import numpy as np\n",
    "import skimage.io as io\n",
    "import matplotlib.pyplot as plt\n",
    "import pylab\n",
    "import PIL\n",
    "\n",
    "pylab.rcParams['figure.figsize'] = (8.0, 10.0)"
   ]
  },
  {
   "cell_type": "code",
   "execution_count": null,
   "metadata": {},
   "outputs": [],
   "source": [
    "annotation_path = '{}/coco/original/ann_train.json'.format(FACADE_IMAGES_DIR)\n",
    "image_dir = '{}/coco/original/images/train'.format(FACADE_IMAGES_DIR)"
   ]
  },
  {
   "cell_type": "code",
   "execution_count": null,
   "metadata": {},
   "outputs": [],
   "source": [
    "annotation_path"
   ]
  },
  {
   "cell_type": "code",
   "execution_count": null,
   "metadata": {},
   "outputs": [],
   "source": [
    "coco=COCO(annotation_path)"
   ]
  },
  {
   "cell_type": "code",
   "execution_count": null,
   "metadata": {},
   "outputs": [],
   "source": [
    "coco.getCatIds()"
   ]
  },
  {
   "cell_type": "code",
   "execution_count": null,
   "metadata": {},
   "outputs": [],
   "source": [
    "# display COCO categories and supercategories\n",
    "cats = coco.loadCats(coco.getCatIds())\n",
    "nms=[cat['name'] for cat in cats]\n",
    "print('COCO categories: \\n{}\\n'.format(' '.join(nms)))\n",
    "\n",
    "nms = set([cat['supercategory'] for cat in cats])\n",
    "print('COCO supercategories: \\n{}'.format(' '.join(nms)))"
   ]
  },
  {
   "cell_type": "code",
   "execution_count": null,
   "metadata": {},
   "outputs": [],
   "source": [
    "img_metadata = coco.loadImgs(7)[0]\n",
    "image_path = os.path.join(image_dir, img_metadata['file_name'])\n",
    "\n",
    "I = PIL.Image.open(image_path)"
   ]
  },
  {
   "cell_type": "code",
   "execution_count": null,
   "metadata": {},
   "outputs": [],
   "source": [
    "img_metadata"
   ]
  },
  {
   "cell_type": "code",
   "execution_count": null,
   "metadata": {},
   "outputs": [],
   "source": [
    "plt.axis('off')\n",
    "plt.imshow(I)"
   ]
  },
  {
   "cell_type": "code",
   "execution_count": null,
   "metadata": {},
   "outputs": [],
   "source": [
    "# load and display instance annotations\n",
    "plt.imshow(I); plt.axis('off')\n",
    "catIds = coco.getCatIds(catNms=[]);\n",
    "annIds = coco.getAnnIds(imgIds=img_metadata['id'], catIds=catIds)\n",
    "#print(annIds)\n",
    "anns = coco.loadAnns(annIds)\n",
    "coco.showAnns(anns)"
   ]
  },
  {
   "cell_type": "markdown",
   "metadata": {},
   "source": [
    "## coco format - template for annotations"
   ]
  },
  {
   "cell_type": "raw",
   "metadata": {},
   "source": [
    "info = {\n",
    "    \"year\" : int,\n",
    "    \"version\" : str,\n",
    "    \"description\" : str,\n",
    "    \"contributor\" : str,\n",
    "    \"url\" : str,\n",
    "    \"date_created\": datetime,\n",
    "}\n",
    "\n",
    "image = {\n",
    "    \"id\" : int,\n",
    "    \"width\" : int,\n",
    "    \"height\" : int,\n",
    "    \"file_name\" : str, \n",
    "    \"license\" : int,\n",
    "    \"flickr_url\" : str,\n",
    "    \"coco_url\" : str,\n",
    "    \"date_captured\" : datetime,\n",
    "}\n",
    "\n",
    "license = {\n",
    "    \"id\" : int,\n",
    "    \"name\" : str,\n",
    "    \"url\" : str,\n",
    "}\n",
    "\n",
    "annotation = {\n",
    "    \"id\" : int,\n",
    "    \"image_id\" : int,\n",
    "    \"category_id\" : int,\n",
    "    \"segmentation\" : RLE or [polygon],\n",
    "    \"area\" : float,\n",
    "    \"bbox\" : [x,y,width,height],\n",
    "    \"iscrowd\" : 0 or 1,\n",
    "}\n",
    "\n",
    "categories = [{\n",
    "    \"id\" : int,\n",
    "    \"name\" : str,\n",
    "    \"supercategory\" : str,\n",
    "}]\n",
    "\n",
    "{\n",
    "    \"info\" : info,\n",
    "    \"images\" : [image],\n",
    "    \"annotations\" : [annotation],\n",
    "    \"licenses\" : [license],\n",
    "    \"categories\" : categories,\n",
    "}"
   ]
  }
 ],
 "metadata": {
  "kernelspec": {
   "display_name": "Python 3",
   "language": "python",
   "name": "python3"
  },
  "language_info": {
   "codemirror_mode": {
    "name": "ipython",
    "version": 3
   },
   "file_extension": ".py",
   "mimetype": "text/x-python",
   "name": "python",
   "nbconvert_exporter": "python",
   "pygments_lexer": "ipython3",
   "version": "3.6.7"
  }
 },
 "nbformat": 4,
 "nbformat_minor": 2
}

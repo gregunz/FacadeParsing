{
 "cells": [
  {
   "cell_type": "code",
   "execution_count": 8,
   "metadata": {},
   "outputs": [],
   "source": [
    "import os\n",
    "import numpy as np\n",
    "import pandas as pd\n",
    "import glob\n",
    "from tqdm.auto import tqdm\n",
    "import seaborn as sns\n",
    "import random\n",
    "import torch\n",
    "\n",
    "from collections import defaultdict\n",
    "from tensorboard.backend.event_processing.event_accumulator import EventAccumulator"
   ]
  },
  {
   "cell_type": "code",
   "execution_count": 9,
   "metadata": {},
   "outputs": [],
   "source": [
    "from matplotlib import pyplot as plt"
   ]
  },
  {
   "cell_type": "code",
   "execution_count": 10,
   "metadata": {},
   "outputs": [],
   "source": [
    "path_to_runs = '/opt/app/projects/FacadeParsing/scripts/runs'\n",
    "path_to_weights = '/data/models'"
   ]
  },
  {
   "cell_type": "code",
   "execution_count": 11,
   "metadata": {},
   "outputs": [],
   "source": [
    "def tabulate_events(dpath):\n",
    "    summary_iterators = [EventAccumulator(os.path.join(dpath, dname)).Reload() for dname in os.listdir(dpath)]\n",
    "\n",
    "    tags = summary_iterators[0].Tags()['scalars']\n",
    "\n",
    "    for it in summary_iterators:\n",
    "        assert it.Tags()['scalars'] == tags\n",
    "\n",
    "    out = defaultdict(list)\n",
    "    steps = []\n",
    "\n",
    "    for tag in tags:\n",
    "        steps = [e.step for e in summary_iterators[0].Scalars(tag)]\n",
    "\n",
    "        for events in zip(*[acc.Scalars(tag) for acc in summary_iterators]):\n",
    "            assert len(set(e.step for e in events)) == 1\n",
    "\n",
    "            out[tag].append([e.value for e in events])\n",
    "\n",
    "    return out, steps"
   ]
  },
  {
   "cell_type": "code",
   "execution_count": 12,
   "metadata": {},
   "outputs": [],
   "source": [
    "def log_to_df(log_path):\n",
    "    data, _ = tabulate_events(log_path)\n",
    "    model_name = path.split('/')[-1]\n",
    "    \n",
    "    # create df\n",
    "    df = pd.DataFrame({n:np.array(d).flatten() for n,d in data.items()})\n",
    "    \n",
    "    # put column epoch\n",
    "    df = df.reset_index().rename(columns={'index': 'epoch'})\n",
    "    \n",
    "    # one can add columns on the dataframe such as the beta\n",
    "    # put beta in column\n",
    "    #beta = model_name.split('heatmaps')[-1]\n",
    "    #df['beta'] = 'beta = ' + beta\n",
    "    #df['beta_value'] = float(beta)\n",
    "    \n",
    "    return df"
   ]
  },
  {
   "cell_type": "markdown",
   "metadata": {},
   "source": [
    "## From tensorboard run logs to CSV"
   ]
  },
  {
   "cell_type": "code",
   "execution_count": 13,
   "metadata": {},
   "outputs": [
    {
     "data": {
      "application/vnd.jupyter.widget-view+json": {
       "model_id": "68656040226842368f4c9d6a175ee085",
       "version_major": 2,
       "version_minor": 0
      },
      "text/plain": [
       "HBox(children=(IntProgress(value=0, max=47), HTML(value='')))"
      ]
     },
     "metadata": {},
     "output_type": "display_data"
    },
    {
     "name": "stdout",
     "output_type": "stream",
     "text": [
      "\n"
     ]
    }
   ],
   "source": [
    "for path in tqdm(sorted(glob.glob('{}/*unet*predictions-mask*heatmaps*'.format(path_to_runs)))[:-2]):\n",
    "    df = log_to_df(path)\n",
    "    model_name = path.split('/')[-1]\n",
    "    try:\n",
    "        df.to_csv('{}/{}/stats.csv'.format(path_to_weights, model_name), index=False)\n",
    "    except FileNotFoundError:\n",
    "        print(model_name)\n",
    "    except KeyError:\n",
    "        print(model_name)"
   ]
  },
  {
   "cell_type": "code",
   "execution_count": null,
   "metadata": {},
   "outputs": [],
   "source": []
  }
 ],
 "metadata": {
  "kernelspec": {
   "display_name": "Python 3",
   "language": "python",
   "name": "python3"
  },
  "language_info": {
   "codemirror_mode": {
    "name": "ipython",
    "version": 3
   },
   "file_extension": ".py",
   "mimetype": "text/x-python",
   "name": "python",
   "nbconvert_exporter": "python",
   "pygments_lexer": "ipython3",
   "version": "3.6.7"
  }
 },
 "nbformat": 4,
 "nbformat_minor": 2
}

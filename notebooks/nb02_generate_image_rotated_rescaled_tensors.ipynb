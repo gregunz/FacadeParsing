{
 "cells": [
  {
   "cell_type": "code",
   "execution_count": 1,
   "metadata": {},
   "outputs": [],
   "source": [
    "import os\n",
    "import random\n",
    "import torch\n",
    "import json\n",
    "\n",
    "import torchvision.transforms as T\n",
    "from tqdm.auto import tqdm"
   ]
  },
  {
   "cell_type": "code",
   "execution_count": 2,
   "metadata": {},
   "outputs": [],
   "source": [
    "from facade_project import FACADE_LABELME_ORIGINAL_DIR, FACADE_ROT_IMAGES_TENSORS_DIR, FACADE_ROT_HEATMAPS_TENSORS_DIR, FACADE_ROT_HEATMAPS_INFOS_PATH, \\\n",
    "    NUM_IMAGES, NUM_ROTATIONS, LABEL_NAME_TO_VALUE, IMG_MAX_SIZE, CUT_MARGIN\n",
    "from facade_project.utils.load import load_tuple_from_json\n",
    "from facade_project.geometry.heatmap import extract_heatmaps_info\n",
    "from facade_project.geometry.masks import crop_pil, get_bbox\n",
    "from facade_project.geometry.image import resize, rotate\n",
    "from facade_project.show import *\n",
    "from facade_project.geometry.heatmap import build_heatmaps, \\\n",
    "    rotate as rotate_info,\\\n",
    "    crop as crop_info,\\\n",
    "    resize as resize_info"
   ]
  },
  {
   "cell_type": "code",
   "execution_count": 3,
   "metadata": {},
   "outputs": [
    {
     "data": {
      "text/plain": [
       "418"
      ]
     },
     "execution_count": 3,
     "metadata": {},
     "output_type": "execute_result"
    }
   ],
   "source": [
    "img_paths = [os.path.join(FACADE_LABELME_ORIGINAL_DIR, fname) for fname in sorted(os.listdir(FACADE_LABELME_ORIGINAL_DIR))]\n",
    "\n",
    "len(img_paths)"
   ]
  },
  {
   "cell_type": "code",
   "execution_count": 4,
   "metadata": {},
   "outputs": [],
   "source": [
    "def get_heatmaps_filename(labels, idx, jdx):\n",
    "    return '{}/heatmaps_{}_{:03d}_{:03d}.torch'.format(FACADE_ROT_HEATMAPS_TENSORS_DIR, '-'.join(sorted(labels)), idx, jdx)    "
   ]
  },
  {
   "cell_type": "code",
   "execution_count": 5,
   "metadata": {},
   "outputs": [],
   "source": [
    "def get_img_filename(prefix, idx, jdx):\n",
    "    return '{}/{}_{:03d}_{:03d}.torch'.format(FACADE_ROT_IMAGES_TENSORS_DIR, prefix, idx, jdx)"
   ]
  },
  {
   "cell_type": "markdown",
   "metadata": {},
   "source": [
    "# Generate\n",
    "Only run this to generate the data"
   ]
  },
  {
   "cell_type": "code",
   "execution_count": null,
   "metadata": {},
   "outputs": [
    {
     "data": {
      "application/vnd.jupyter.widget-view+json": {
       "model_id": "1fa5f41e72574c25b8e2cc11fef9e9bb",
       "version_major": 2,
       "version_minor": 0
      },
      "text/plain": [
       "HBox(children=(IntProgress(value=0, max=418), HTML(value='')))"
      ]
     },
     "metadata": {},
     "output_type": "display_data"
    }
   ],
   "source": [
    "# in case we want to add more rotations\n",
    "rotation_offset = 0\n",
    "num_rot = NUM_ROTATIONS\n",
    "max_size = IMG_MAX_SIZE\n",
    "heatmap_infos = dict()\n",
    "\n",
    "for idx, path in enumerate(tqdm(img_paths)):\n",
    "    heatmap_info = extract_heatmaps_info(json.load(open(path, mode='r')))\n",
    "\n",
    "    img_original, lbl_original = load_tuple_from_json(path)\n",
    "    img_pil, lbl_pil = T.ToPILImage()(img_original), T.ToPILImage()(lbl_original)\n",
    "\n",
    "    if idx not in heatmap_infos:\n",
    "        heatmap_infos[idx] = dict()\n",
    "\n",
    "    for jdx in range(num_rot):\n",
    "\n",
    "        info = heatmap_info\n",
    "\n",
    "        angle = random.randint(1, 10)\n",
    "        if random.randint(0,1) == 0:\n",
    "            angle *= -1\n",
    "        info = rotate_info(info, angle)\n",
    "        img = rotate(img_pil, angle, itp_name='BI')\n",
    "        lbl = rotate(lbl_pil, angle, itp_name='NN')\n",
    "\n",
    "        # CROP - CUT BORDERS\n",
    "        bbox = get_bbox(lbl, cut_margin=CUT_MARGIN)\n",
    "        tl_x, tl_y, br_x, br_y = bbox\n",
    "        bbox_w, bbox_h = br_x - tl_x, br_y - tl_y\n",
    "        if bbox_w > bbox_h:\n",
    "            dif = min(bbox_w - bbox_h, CUT_MARGIN)\n",
    "            bbox = tl_x, max(0, tl_y - dif//2), br_x, min(br_y + dif//2, img.size[1])\n",
    "        else:\n",
    "            dif = min(bbox_h - bbox_w, CUT_MARGIN)\n",
    "            bbox = max(0, tl_x - dif//2), tl_y, min(br_x + dif//2, img.size[0]), br_y\n",
    "\n",
    "        img = crop_pil(img, bbox)\n",
    "        lbl = crop_pil(lbl, bbox)\n",
    "        info = crop_info(info, bbox)\n",
    "\n",
    "        # RANDOM CROP AND RESIZE\n",
    "        w, h = img.size\n",
    "        crop_size = int(min(w, h) * (1 - random.random() / 3))\n",
    "        top = random.randint(0, h - crop_size)\n",
    "        left = random.randint(0, w - crop_size)\n",
    "        bbox2 = (left, top, left + crop_size, top + crop_size)\n",
    "        img = crop_pil(img, bbox2)\n",
    "        lbl = crop_pil(lbl, bbox2)\n",
    "        info = crop_info(info, bbox2)\n",
    "\n",
    "        resize_size = (IMG_MAX_SIZE, IMG_MAX_SIZE)\n",
    "        img = resize(img, size=resize_size, itp_name='BI')\n",
    "        lbl = resize(lbl, size=resize_size, itp_name='NN')\n",
    "        info = resize_info(info, resize_size)\n",
    "\n",
    "        img = T.ToTensor()(img)\n",
    "        lbl = (T.ToTensor()(lbl) * 255).int()  \n",
    "        heatmap_infos[idx][jdx] = info\n",
    "\n",
    "        json.dump(heatmap_infos, open(FACADE_ROT_HEATMAPS_INFOS_PATH, mode='w'))\n",
    "\n",
    "        torch.save(img, get_img_filename('img', idx, jdx + rotation_offset))\n",
    "        torch.save(lbl, get_img_filename('lbl', idx, jdx + rotation_offset))\n",
    "\n",
    "        labels=['window', 'door']\n",
    "        hmaps = build_heatmaps(info, labels, heatmap_types=['center', 'width', 'height'])\n",
    "        torch.save(hmaps, get_heatmaps_filename(labels, idx, jdx + rotation_offset))\n"
   ]
  },
  {
   "cell_type": "code",
   "execution_count": null,
   "metadata": {},
   "outputs": [],
   "source": [
    "1+1"
   ]
  },
  {
   "cell_type": "code",
   "execution_count": null,
   "metadata": {},
   "outputs": [],
   "source": []
  }
 ],
 "metadata": {
  "kernelspec": {
   "display_name": "Python 3",
   "language": "python",
   "name": "python3"
  },
  "language_info": {
   "codemirror_mode": {
    "name": "ipython",
    "version": 3
   },
   "file_extension": ".py",
   "mimetype": "text/x-python",
   "name": "python",
   "nbconvert_exporter": "python",
   "pygments_lexer": "ipython3",
   "version": "3.6.7"
  }
 },
 "nbformat": 4,
 "nbformat_minor": 2
}

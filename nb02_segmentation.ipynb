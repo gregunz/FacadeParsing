{
 "cells": [
  {
   "cell_type": "code",
   "execution_count": 1,
   "metadata": {},
   "outputs": [],
   "source": [
    "from __future__ import print_function, division\n",
    "\n",
    "import numpy as np\n",
    "import time\n",
    "import os\n",
    "import copy\n",
    "import PIL\n",
    "import sys\n",
    "import pickle\n",
    "\n",
    "from tqdm import tqdm_notebook as tqdm\n",
    "import seaborn as sns\n",
    "\n",
    "# PyTorch\n",
    "import torch\n",
    "import torch.nn as nn\n",
    "import torch.optim as optim\n",
    "from torch.utils.data import DataLoader, Subset\n",
    "from torch.optim import lr_scheduler\n",
    "from torchsummary import summary\n",
    "\n",
    "import torchvision\n",
    "from torchvision import datasets, models, transforms\n",
    "#from albumentations import Compose, RandomCrop, Normalize, HorizontalFlip, Resize\n",
    "#from albumentations.pytorch import ToTensor\n",
    "\n",
    "\n",
    "# Plots\n",
    "import matplotlib.pyplot as plt\n",
    "%matplotlib inline\n",
    "\n",
    "plt.ion()   # interactive mode"
   ]
  },
  {
   "cell_type": "code",
   "execution_count": 2,
   "metadata": {},
   "outputs": [],
   "source": [
    "sns.set(rc={\"figure.figsize\": (15, 6)})\n",
    "sns.set_palette(sns.color_palette(\"Set2\", 10))\n",
    "sns.set_style(\"whitegrid\", {'axes.grid' : False})"
   ]
  },
  {
   "cell_type": "markdown",
   "metadata": {},
   "source": [
    "## Local functions"
   ]
  },
  {
   "cell_type": "code",
   "execution_count": 3,
   "metadata": {},
   "outputs": [],
   "source": [
    "from dataset import *\n",
    "from train import train_model\n",
    "from show import *\n",
    "from constants import *"
   ]
  },
  {
   "cell_type": "code",
   "execution_count": 4,
   "metadata": {},
   "outputs": [
    {
     "data": {
      "text/plain": [
       "device(type='cuda', index=0)"
      ]
     },
     "execution_count": 4,
     "metadata": {},
     "output_type": "execute_result"
    }
   ],
   "source": [
    "device = torch.device(\"cuda:0\" if torch.cuda.is_available() else \"cpu\")\n",
    "device"
   ]
  },
  {
   "cell_type": "markdown",
   "metadata": {},
   "source": [
    "# Constants"
   ]
  },
  {
   "cell_type": "code",
   "execution_count": 5,
   "metadata": {},
   "outputs": [],
   "source": [
    "SEED = 238122"
   ]
  },
  {
   "cell_type": "markdown",
   "metadata": {},
   "source": [
    "# Loading Data"
   ]
  },
  {
   "cell_type": "markdown",
   "metadata": {},
   "source": [
    "## Transform data"
   ]
  },
  {
   "cell_type": "code",
   "execution_count": 6,
   "metadata": {},
   "outputs": [],
   "source": [
    "dataset = FacadesDatasetH5Patches(to_file_path('images', 'hdf5'), normalized=True)"
   ]
  },
  {
   "cell_type": "markdown",
   "metadata": {},
   "source": [
    "# Validation Set"
   ]
  },
  {
   "cell_type": "code",
   "execution_count": 7,
   "metadata": {},
   "outputs": [],
   "source": [
    "num_crops_per_images = pickle.load(open(to_file_path('crops', 'p'), \"rb\" ))\n",
    "crops_from_to_idx = []\n",
    "from_ = 0\n",
    "to = 0\n",
    "for n in num_crops_per_images:\n",
    "    to += n\n",
    "    crops_from_to_idx.append((from_, to))\n",
    "    from_ += n"
   ]
  },
  {
   "cell_type": "code",
   "execution_count": 8,
   "metadata": {},
   "outputs": [],
   "source": [
    "def img_idx_to_crop_idx(indices):\n",
    "    return np.array([j for i in indices for j in range(*crops_from_to_idx[i])])"
   ]
  },
  {
   "cell_type": "code",
   "execution_count": 9,
   "metadata": {},
   "outputs": [],
   "source": [
    "def lenghts_split(size, perc):\n",
    "    train_l =  int(0.9 * size)\n",
    "    return train_l, size - train_l"
   ]
  },
  {
   "cell_type": "code",
   "execution_count": 10,
   "metadata": {},
   "outputs": [
    {
     "data": {
      "text/plain": [
       "(4280, 496)"
      ]
     },
     "execution_count": 10,
     "metadata": {},
     "output_type": "execute_result"
    }
   ],
   "source": [
    "np.random.seed(SEED)\n",
    "img_indices = np.random.permutation(len(num_crops_per_images))\n",
    "n_img_train, n_img_val = lenghts_split(len(num_crops_per_images), .9)\n",
    "train_ind = img_idx_to_crop_idx(img_indices[:n_img_train])\n",
    "train_ind = train_ind[np.random.permutation(len(train_ind))]\n",
    "val_ind = img_idx_to_crop_idx(img_indices[n_img_train:])\n",
    "val_ind = val_ind[np.random.permutation(len(val_ind))]\n",
    "\n",
    "len(train_ind), len(val_ind)"
   ]
  },
  {
   "cell_type": "code",
   "execution_count": 11,
   "metadata": {},
   "outputs": [],
   "source": [
    "train_dataset = Subset(dataset, train_ind)\n",
    "val_dataset = Subset(dataset, val_ind)"
   ]
  },
  {
   "cell_type": "code",
   "execution_count": 12,
   "metadata": {},
   "outputs": [],
   "source": [
    "batch_size = 16"
   ]
  },
  {
   "cell_type": "code",
   "execution_count": 13,
   "metadata": {},
   "outputs": [],
   "source": [
    "def to_dataloader(dataset):\n",
    "    return DataLoader(dataset, batch_size=batch_size, shuffle=True, num_workers=0)"
   ]
  },
  {
   "cell_type": "code",
   "execution_count": 14,
   "metadata": {},
   "outputs": [],
   "source": [
    "dataloaders = {'train': to_dataloader(train_dataset), 'val': to_dataloader(val_dataset)}"
   ]
  },
  {
   "cell_type": "code",
   "execution_count": 15,
   "metadata": {},
   "outputs": [],
   "source": [
    "dataset_sizes = {phase: len(dataloaders[phase]) for phase in ['train', 'val']}"
   ]
  },
  {
   "cell_type": "code",
   "execution_count": 16,
   "metadata": {},
   "outputs": [
    {
     "data": {
      "text/plain": [
       "{'train': 268, 'val': 31}"
      ]
     },
     "execution_count": 16,
     "metadata": {},
     "output_type": "execute_result"
    }
   ],
   "source": [
    "dataset_sizes"
   ]
  },
  {
   "cell_type": "markdown",
   "metadata": {},
   "source": [
    "# Statistics"
   ]
  },
  {
   "cell_type": "code",
   "execution_count": 17,
   "metadata": {},
   "outputs": [
    {
     "data": {
      "application/vnd.jupyter.widget-view+json": {
       "model_id": "3c9de0955def4ffaa6dc01ea4bf63497",
       "version_major": 2,
       "version_minor": 0
      },
      "text/plain": [
       "HBox(children=(IntProgress(value=0, max=268), HTML(value='')))"
      ]
     },
     "metadata": {},
     "output_type": "display_data"
    },
    {
     "name": "stdout",
     "output_type": "stream",
     "text": [
      "\n"
     ]
    }
   ],
   "source": [
    "class_weights = {v: 0 for _, v in dataset.labels.items()}\n",
    "for data in tqdm(dataloaders['train']):\n",
    "    lbl = data['label'].to(device)\n",
    "    for v in class_weights:\n",
    "        class_weights[v] += (lbl == torch.tensor(v).to(device)).sum().float() / lbl.nelement()\n",
    "        \n",
    "for v in class_weights:\n",
    "    class_weights[v] /= len(dataloaders['train'])"
   ]
  },
  {
   "cell_type": "code",
   "execution_count": 21,
   "metadata": {},
   "outputs": [
    {
     "data": {
      "text/plain": [
       "{'_background_': 0, 'door': 1, 'object': 2, 'wall': 3, 'window': 4}"
      ]
     },
     "execution_count": 21,
     "metadata": {},
     "output_type": "execute_result"
    }
   ],
   "source": [
    "label_name_to_value"
   ]
  },
  {
   "cell_type": "code",
   "execution_count": 18,
   "metadata": {},
   "outputs": [
    {
     "data": {
      "text/plain": [
       "({0: tensor(0.2237, device='cuda:0'),\n",
       "  1: tensor(0.0291, device='cuda:0'),\n",
       "  2: tensor(0.0651, device='cuda:0'),\n",
       "  3: tensor(0.6123, device='cuda:0'),\n",
       "  4: tensor(0.0697, device='cuda:0')},\n",
       " 0.9999998956918716)"
      ]
     },
     "execution_count": 18,
     "metadata": {},
     "output_type": "execute_result"
    }
   ],
   "source": [
    "class_weights, sum([t.item() for _, t in class_weights.items()])"
   ]
  },
  {
   "cell_type": "code",
   "execution_count": 19,
   "metadata": {},
   "outputs": [
    {
     "data": {
      "text/plain": [
       "tensor([0.7763, 0.9709, 0.9349, 0.3877, 0.9303], device='cuda:0')"
      ]
     },
     "execution_count": 19,
     "metadata": {},
     "output_type": "execute_result"
    }
   ],
   "source": [
    "weights = torch.tensor([1 - w for _, w in class_weights.items()]).to(device)\n",
    "weights"
   ]
  },
  {
   "cell_type": "markdown",
   "metadata": {},
   "source": [
    "# Using AlbuNet"
   ]
  },
  {
   "cell_type": "code",
   "execution_count": 17,
   "metadata": {},
   "outputs": [],
   "source": [
    "from models import AlbuNet"
   ]
  },
  {
   "cell_type": "code",
   "execution_count": 18,
   "metadata": {},
   "outputs": [],
   "source": [
    "albunet = AlbuNet(\n",
    "    num_classes=len(dataset.labels),\n",
    "    num_filters=16,\n",
    "    pretrained=True,\n",
    "    is_deconv=False,\n",
    ")"
   ]
  },
  {
   "cell_type": "markdown",
   "metadata": {},
   "source": [
    "## Model details"
   ]
  },
  {
   "cell_type": "code",
   "execution_count": 19,
   "metadata": {},
   "outputs": [],
   "source": [
    "%%capture catching_output\n",
    "summary(albunet.to(device), input_size=dataset[0]['image'].shape)"
   ]
  },
  {
   "cell_type": "code",
   "execution_count": 20,
   "metadata": {},
   "outputs": [
    {
     "name": "stdout",
     "output_type": "stream",
     "text": [
      "Writing 'summary_txt' (str) to file 'models_summary/albunet_summary.txt'.\n"
     ]
    }
   ],
   "source": [
    "summary_txt = catching_output.stdout\n",
    "%store summary_txt > \"models_summary/albunet_summary.txt\""
   ]
  },
  {
   "cell_type": "code",
   "execution_count": 21,
   "metadata": {},
   "outputs": [
    {
     "name": "stdout",
     "output_type": "stream",
     "text": [
      "================================================================\n",
      "Total params: 47,466,965\n",
      "Trainable params: 47,466,965\n",
      "Non-trainable params: 0\n",
      "----------------------------------------------------------------\n",
      "Input size (MB): 0.75\n",
      "Forward/backward pass size (MB): 547.75\n",
      "Params size (MB): 181.07\n",
      "Estimated Total Size (MB): 729.57\n",
      "----------------------------------------------------------------\n"
     ]
    }
   ],
   "source": [
    "separator = \"=\" * 10\n",
    "counter = 0\n",
    "for l in iter(summary_txt.splitlines()):\n",
    "    if separator in l:\n",
    "        counter += 1\n",
    "    if counter > 1:\n",
    "        print(l)"
   ]
  },
  {
   "cell_type": "code",
   "execution_count": 22,
   "metadata": {},
   "outputs": [],
   "source": [
    "from torchviz import make_dot"
   ]
  },
  {
   "cell_type": "code",
   "execution_count": 23,
   "metadata": {},
   "outputs": [],
   "source": [
    "x = torch.randn(dataset[0]['image'].shape).unsqueeze(0).to(device)\n",
    "y = albunet.to(device)(x)"
   ]
  },
  {
   "cell_type": "code",
   "execution_count": 24,
   "metadata": {},
   "outputs": [
    {
     "data": {
      "text/plain": [
       "'model_viz.pdf'"
      ]
     },
     "execution_count": 24,
     "metadata": {},
     "output_type": "execute_result"
    }
   ],
   "source": [
    "make_dot(y, dict(albunet.named_parameters())).render('model_viz')"
   ]
  },
  {
   "cell_type": "markdown",
   "metadata": {},
   "source": [
    "# Training"
   ]
  },
  {
   "cell_type": "code",
   "execution_count": 25,
   "metadata": {},
   "outputs": [],
   "source": [
    "from tensorboardX import SummaryWriter\n",
    "from loss_and_metric import dice_loss, jaccard_index\n",
    "writer = SummaryWriter()"
   ]
  },
  {
   "cell_type": "code",
   "execution_count": 26,
   "metadata": {},
   "outputs": [],
   "source": [
    "criterion = dice_loss#nn.CrossEntropyLoss(weights)\n",
    "optimizer = optim.Adam(albunet.parameters())\n",
    "exp_lr_scheduler = lr_scheduler.StepLR(optimizer, step_size=7, gamma=0.1)"
   ]
  },
  {
   "cell_type": "code",
   "execution_count": 31,
   "metadata": {},
   "outputs": [
    {
     "name": "stdout",
     "output_type": "stream",
     "text": [
      "Epoch 0/19\n",
      "----------\n"
     ]
    },
    {
     "data": {
      "application/vnd.jupyter.widget-view+json": {
       "model_id": "56ab5616dc794e478993bdf6ce15143e",
       "version_major": 2,
       "version_minor": 0
      },
      "text/plain": [
       "HBox(children=(IntProgress(value=0, max=268), HTML(value='')))"
      ]
     },
     "metadata": {},
     "output_type": "display_data"
    },
    {
     "name": "stdout",
     "output_type": "stream",
     "text": [
      "\n",
      "train Loss: 10.6917 MeanJacc: 0.2319  JaccPerClass: {0: tensor(0.3340), 1: tensor(0.0170), 2: tensor(0.0117), 3: tensor(0.6749), 4: tensor(0.1216)}\n"
     ]
    },
    {
     "data": {
      "application/vnd.jupyter.widget-view+json": {
       "model_id": "65531547858c40389900d923af89caf3",
       "version_major": 2,
       "version_minor": 0
      },
      "text/plain": [
       "HBox(children=(IntProgress(value=0, max=31), HTML(value='')))"
      ]
     },
     "metadata": {},
     "output_type": "display_data"
    },
    {
     "name": "stdout",
     "output_type": "stream",
     "text": [
      "\n",
      "val Loss: 10.4550 MeanJacc: 0.2516  JaccPerClass: {0: tensor(0.4600), 1: tensor(0.0196), 2: tensor(0.0480), 3: tensor(0.6987), 4: tensor(0.0319)}\n",
      "\n",
      "Epoch 1/19\n",
      "----------\n"
     ]
    },
    {
     "data": {
      "application/vnd.jupyter.widget-view+json": {
       "model_id": "f54eb38c893e456fa86c2713456da135",
       "version_major": 2,
       "version_minor": 0
      },
      "text/plain": [
       "HBox(children=(IntProgress(value=0, max=268), HTML(value='')))"
      ]
     },
     "metadata": {},
     "output_type": "display_data"
    },
    {
     "name": "stdout",
     "output_type": "stream",
     "text": [
      "\n",
      "train Loss: 9.7116 MeanJacc: 0.2940  JaccPerClass: {0: tensor(0.3827), 1: tensor(0.0619), 2: tensor(0.1208), 3: tensor(0.6848), 4: tensor(0.2199)}\n"
     ]
    },
    {
     "data": {
      "application/vnd.jupyter.widget-view+json": {
       "model_id": "18dcb8caf25e41548d9de80ce3e835ef",
       "version_major": 2,
       "version_minor": 0
      },
      "text/plain": [
       "HBox(children=(IntProgress(value=0, max=31), HTML(value='')))"
      ]
     },
     "metadata": {},
     "output_type": "display_data"
    },
    {
     "name": "stdout",
     "output_type": "stream",
     "text": [
      "\n",
      "val Loss: 11.3893 MeanJacc: 0.2061  JaccPerClass: {0: tensor(0.3707), 1: tensor(0.0096), 2: tensor(0.0673), 3: tensor(0.5137), 4: tensor(0.0692)}\n",
      "\n",
      "Epoch 2/19\n",
      "----------\n"
     ]
    },
    {
     "data": {
      "application/vnd.jupyter.widget-view+json": {
       "model_id": "bf32c63b6beb46a1bea165a0203a2482",
       "version_major": 2,
       "version_minor": 0
      },
      "text/plain": [
       "HBox(children=(IntProgress(value=0, max=268), HTML(value='')))"
      ]
     },
     "metadata": {},
     "output_type": "display_data"
    },
    {
     "name": "stdout",
     "output_type": "stream",
     "text": [
      "\n",
      "train Loss: 9.1029 MeanJacc: 0.3263  JaccPerClass: {0: tensor(0.3943), 1: tensor(0.1196), 2: tensor(0.1706), 3: tensor(0.6909), 4: tensor(0.2561)}\n"
     ]
    },
    {
     "data": {
      "application/vnd.jupyter.widget-view+json": {
       "model_id": "d926be4455dc4548a7f7a60de22c36ac",
       "version_major": 2,
       "version_minor": 0
      },
      "text/plain": [
       "HBox(children=(IntProgress(value=0, max=31), HTML(value='')))"
      ]
     },
     "metadata": {},
     "output_type": "display_data"
    },
    {
     "name": "stdout",
     "output_type": "stream",
     "text": [
      "\n",
      "val Loss: 9.9439 MeanJacc: 0.2790  JaccPerClass: {0: tensor(0.4037), 1: tensor(0.0726), 2: tensor(0.1287), 3: tensor(0.6019), 4: tensor(0.1882)}\n",
      "\n",
      "Epoch 3/19\n",
      "----------\n"
     ]
    },
    {
     "data": {
      "application/vnd.jupyter.widget-view+json": {
       "model_id": "7432e3a5cb8f4f62ba5678e83da4ba50",
       "version_major": 2,
       "version_minor": 0
      },
      "text/plain": [
       "HBox(children=(IntProgress(value=0, max=268), HTML(value='')))"
      ]
     },
     "metadata": {},
     "output_type": "display_data"
    },
    {
     "name": "stdout",
     "output_type": "stream",
     "text": [
      "\n",
      "train Loss: 8.9232 MeanJacc: 0.3367  JaccPerClass: {0: tensor(0.4119), 1: tensor(0.1224), 2: tensor(0.1755), 3: tensor(0.7013), 4: tensor(0.2722)}\n"
     ]
    },
    {
     "data": {
      "application/vnd.jupyter.widget-view+json": {
       "model_id": "adc038db4092401db88044cb1cc16fb8",
       "version_major": 2,
       "version_minor": 0
      },
      "text/plain": [
       "HBox(children=(IntProgress(value=0, max=31), HTML(value='')))"
      ]
     },
     "metadata": {},
     "output_type": "display_data"
    },
    {
     "name": "stdout",
     "output_type": "stream",
     "text": [
      "\n",
      "val Loss: 9.6810 MeanJacc: 0.2854  JaccPerClass: {0: tensor(0.3123), 1: tensor(0.1071), 2: tensor(0.1514), 3: tensor(0.6060), 4: tensor(0.2500)}\n",
      "\n",
      "Epoch 4/19\n",
      "----------\n"
     ]
    },
    {
     "data": {
      "application/vnd.jupyter.widget-view+json": {
       "model_id": "6d91174c992a4546a172d133cf59fa6c",
       "version_major": 2,
       "version_minor": 0
      },
      "text/plain": [
       "HBox(children=(IntProgress(value=0, max=268), HTML(value='')))"
      ]
     },
     "metadata": {},
     "output_type": "display_data"
    },
    {
     "name": "stdout",
     "output_type": "stream",
     "text": [
      "\n",
      "train Loss: 8.7617 MeanJacc: 0.3471  JaccPerClass: {0: tensor(0.4254), 1: tensor(0.1181), 2: tensor(0.1845), 3: tensor(0.7081), 4: tensor(0.2995)}\n"
     ]
    },
    {
     "data": {
      "application/vnd.jupyter.widget-view+json": {
       "model_id": "7cfb142a8ffa4c198b7aa694558a9618",
       "version_major": 2,
       "version_minor": 0
      },
      "text/plain": [
       "HBox(children=(IntProgress(value=0, max=31), HTML(value='')))"
      ]
     },
     "metadata": {},
     "output_type": "display_data"
    },
    {
     "name": "stdout",
     "output_type": "stream",
     "text": [
      "\n",
      "val Loss: 8.9532 MeanJacc: 0.3313  JaccPerClass: {0: tensor(0.4280), 1: tensor(0.1090), 2: tensor(0.1717), 3: tensor(0.6711), 4: tensor(0.2768)}\n",
      "\n",
      "Epoch 5/19\n",
      "----------\n"
     ]
    },
    {
     "data": {
      "application/vnd.jupyter.widget-view+json": {
       "model_id": "510d8bb14ed84b33b7fe6685f3e56730",
       "version_major": 2,
       "version_minor": 0
      },
      "text/plain": [
       "HBox(children=(IntProgress(value=0, max=268), HTML(value='')))"
      ]
     },
     "metadata": {},
     "output_type": "display_data"
    },
    {
     "name": "stdout",
     "output_type": "stream",
     "text": [
      "\n",
      "train Loss: 8.5692 MeanJacc: 0.3563  JaccPerClass: {0: tensor(0.4313), 1: tensor(0.1292), 2: tensor(0.1907), 3: tensor(0.7094), 4: tensor(0.3206)}\n"
     ]
    },
    {
     "data": {
      "application/vnd.jupyter.widget-view+json": {
       "model_id": "06cc699e10094836bd26f60826d7a807",
       "version_major": 2,
       "version_minor": 0
      },
      "text/plain": [
       "HBox(children=(IntProgress(value=0, max=31), HTML(value='')))"
      ]
     },
     "metadata": {},
     "output_type": "display_data"
    },
    {
     "name": "stdout",
     "output_type": "stream",
     "text": [
      "\n",
      "val Loss: 9.0280 MeanJacc: 0.3335  JaccPerClass: {0: tensor(0.4547), 1: tensor(0.0766), 2: tensor(0.1501), 3: tensor(0.6909), 4: tensor(0.2953)}\n",
      "\n",
      "Epoch 6/19\n",
      "----------\n"
     ]
    },
    {
     "data": {
      "application/vnd.jupyter.widget-view+json": {
       "model_id": "b1573f7d30ca4fb3abd6ae23b3d33ae7",
       "version_major": 2,
       "version_minor": 0
      },
      "text/plain": [
       "HBox(children=(IntProgress(value=0, max=268), HTML(value='')))"
      ]
     },
     "metadata": {},
     "output_type": "display_data"
    },
    {
     "name": "stdout",
     "output_type": "stream",
     "text": [
      "\n",
      "train Loss: 8.2020 MeanJacc: 0.3788  JaccPerClass: {0: tensor(0.4520), 1: tensor(0.1386), 2: tensor(0.2126), 3: tensor(0.7200), 4: tensor(0.3709)}\n"
     ]
    },
    {
     "data": {
      "application/vnd.jupyter.widget-view+json": {
       "model_id": "0785308dd1704b3cb85a613c4cbdb84b",
       "version_major": 2,
       "version_minor": 0
      },
      "text/plain": [
       "HBox(children=(IntProgress(value=0, max=31), HTML(value='')))"
      ]
     },
     "metadata": {},
     "output_type": "display_data"
    },
    {
     "name": "stdout",
     "output_type": "stream",
     "text": [
      "\n",
      "val Loss: 8.2283 MeanJacc: 0.3806  JaccPerClass: {0: tensor(0.5061), 1: tensor(0.1536), 2: tensor(0.1784), 3: tensor(0.7261), 4: tensor(0.3387)}\n",
      "\n",
      "Epoch 7/19\n",
      "----------\n"
     ]
    },
    {
     "data": {
      "application/vnd.jupyter.widget-view+json": {
       "model_id": "f206fcbaf6ef4c78974f6469ec90d545",
       "version_major": 2,
       "version_minor": 0
      },
      "text/plain": [
       "HBox(children=(IntProgress(value=0, max=268), HTML(value='')))"
      ]
     },
     "metadata": {},
     "output_type": "display_data"
    },
    {
     "name": "stdout",
     "output_type": "stream",
     "text": [
      "\n",
      "train Loss: 8.0324 MeanJacc: 0.3914  JaccPerClass: {0: tensor(0.4623), 1: tensor(0.1502), 2: tensor(0.2250), 3: tensor(0.7282), 4: tensor(0.3915)}\n"
     ]
    },
    {
     "data": {
      "application/vnd.jupyter.widget-view+json": {
       "model_id": "6b3c1eb549784ab7b520f32f5484572b",
       "version_major": 2,
       "version_minor": 0
      },
      "text/plain": [
       "HBox(children=(IntProgress(value=0, max=31), HTML(value='')))"
      ]
     },
     "metadata": {},
     "output_type": "display_data"
    },
    {
     "name": "stdout",
     "output_type": "stream",
     "text": [
      "\n",
      "val Loss: 8.2656 MeanJacc: 0.3776  JaccPerClass: {0: tensor(0.5129), 1: tensor(0.1429), 2: tensor(0.1830), 3: tensor(0.7128), 4: tensor(0.3364)}\n",
      "\n",
      "Epoch 8/19\n",
      "----------\n"
     ]
    },
    {
     "data": {
      "application/vnd.jupyter.widget-view+json": {
       "model_id": "e3d9b6fca9584277ae2756592cfc8dc0",
       "version_major": 2,
       "version_minor": 0
      },
      "text/plain": [
       "HBox(children=(IntProgress(value=0, max=268), HTML(value='')))"
      ]
     },
     "metadata": {},
     "output_type": "display_data"
    },
    {
     "name": "stdout",
     "output_type": "stream",
     "text": [
      "\n",
      "train Loss: 7.9009 MeanJacc: 0.3990  JaccPerClass: {0: tensor(0.4719), 1: tensor(0.1578), 2: tensor(0.2323), 3: tensor(0.7334), 4: tensor(0.3998)}\n"
     ]
    },
    {
     "data": {
      "application/vnd.jupyter.widget-view+json": {
       "model_id": "0c1ea2b126e346959fcfc346bd88191b",
       "version_major": 2,
       "version_minor": 0
      },
      "text/plain": [
       "HBox(children=(IntProgress(value=0, max=31), HTML(value='')))"
      ]
     },
     "metadata": {},
     "output_type": "display_data"
    },
    {
     "name": "stdout",
     "output_type": "stream",
     "text": [
      "\n",
      "val Loss: 8.3765 MeanJacc: 0.3695  JaccPerClass: {0: tensor(0.4878), 1: tensor(0.1118), 2: tensor(0.1812), 3: tensor(0.7071), 4: tensor(0.3594)}\n",
      "\n",
      "Epoch 9/19\n",
      "----------\n"
     ]
    },
    {
     "data": {
      "application/vnd.jupyter.widget-view+json": {
       "model_id": "bb7b3ff60340456da9e4c4c8e92b6082",
       "version_major": 2,
       "version_minor": 0
      },
      "text/plain": [
       "HBox(children=(IntProgress(value=0, max=268), HTML(value='')))"
      ]
     },
     "metadata": {},
     "output_type": "display_data"
    },
    {
     "name": "stdout",
     "output_type": "stream",
     "text": [
      "\n",
      "train Loss: 7.7162 MeanJacc: 0.4092  JaccPerClass: {0: tensor(0.4935), 1: tensor(0.1578), 2: tensor(0.2419), 3: tensor(0.7398), 4: tensor(0.4130)}\n"
     ]
    },
    {
     "data": {
      "application/vnd.jupyter.widget-view+json": {
       "model_id": "539c5aceb05343c791df44e07e0a50ef",
       "version_major": 2,
       "version_minor": 0
      },
      "text/plain": [
       "HBox(children=(IntProgress(value=0, max=31), HTML(value='')))"
      ]
     },
     "metadata": {},
     "output_type": "display_data"
    },
    {
     "name": "stdout",
     "output_type": "stream",
     "text": [
      "\n",
      "val Loss: 8.2390 MeanJacc: 0.3793  JaccPerClass: {0: tensor(0.4972), 1: tensor(0.1409), 2: tensor(0.1851), 3: tensor(0.7140), 4: tensor(0.3592)}\n",
      "\n",
      "Epoch 10/19\n",
      "----------\n"
     ]
    },
    {
     "data": {
      "application/vnd.jupyter.widget-view+json": {
       "model_id": "ae396b4bad104184a0cabaed83313b9c",
       "version_major": 2,
       "version_minor": 0
      },
      "text/plain": [
       "HBox(children=(IntProgress(value=0, max=268), HTML(value='')))"
      ]
     },
     "metadata": {},
     "output_type": "display_data"
    },
    {
     "name": "stdout",
     "output_type": "stream",
     "text": [
      "\n",
      "train Loss: 7.6805 MeanJacc: 0.4127  JaccPerClass: {0: tensor(0.4934), 1: tensor(0.1593), 2: tensor(0.2452), 3: tensor(0.7441), 4: tensor(0.4214)}\n"
     ]
    },
    {
     "data": {
      "application/vnd.jupyter.widget-view+json": {
       "model_id": "c3d2f5ac825b49688027f4b23dec3e17",
       "version_major": 2,
       "version_minor": 0
      },
      "text/plain": [
       "HBox(children=(IntProgress(value=0, max=31), HTML(value='')))"
      ]
     },
     "metadata": {},
     "output_type": "display_data"
    },
    {
     "name": "stdout",
     "output_type": "stream",
     "text": [
      "\n",
      "val Loss: 8.0563 MeanJacc: 0.3939  JaccPerClass: {0: tensor(0.5277), 1: tensor(0.1550), 2: tensor(0.1860), 3: tensor(0.7329), 4: tensor(0.3677)}\n",
      "\n",
      "Epoch 11/19\n",
      "----------\n"
     ]
    },
    {
     "data": {
      "application/vnd.jupyter.widget-view+json": {
       "model_id": "10a1d71aee544f289ba857f3575cb668",
       "version_major": 2,
       "version_minor": 0
      },
      "text/plain": [
       "HBox(children=(IntProgress(value=0, max=268), HTML(value='')))"
      ]
     },
     "metadata": {},
     "output_type": "display_data"
    },
    {
     "name": "stdout",
     "output_type": "stream",
     "text": [
      "\n",
      "train Loss: 7.5644 MeanJacc: 0.4220  JaccPerClass: {0: tensor(0.5103), 1: tensor(0.1702), 2: tensor(0.2474), 3: tensor(0.7492), 4: tensor(0.4328)}\n"
     ]
    },
    {
     "data": {
      "application/vnd.jupyter.widget-view+json": {
       "model_id": "78e0df36fcf442bcaae4f5d1bc041d79",
       "version_major": 2,
       "version_minor": 0
      },
      "text/plain": [
       "HBox(children=(IntProgress(value=0, max=31), HTML(value='')))"
      ]
     },
     "metadata": {},
     "output_type": "display_data"
    },
    {
     "name": "stdout",
     "output_type": "stream",
     "text": [
      "\n",
      "val Loss: 8.0575 MeanJacc: 0.3898  JaccPerClass: {0: tensor(0.4996), 1: tensor(0.1256), 2: tensor(0.2081), 3: tensor(0.7202), 4: tensor(0.3955)}\n",
      "\n",
      "Epoch 12/19\n",
      "----------\n"
     ]
    },
    {
     "data": {
      "application/vnd.jupyter.widget-view+json": {
       "model_id": "9b5eafa440a8423c863d5316a887ca2e",
       "version_major": 2,
       "version_minor": 0
      },
      "text/plain": [
       "HBox(children=(IntProgress(value=0, max=268), HTML(value='')))"
      ]
     },
     "metadata": {},
     "output_type": "display_data"
    },
    {
     "name": "stdout",
     "output_type": "stream",
     "text": [
      "\n",
      "train Loss: 7.4944 MeanJacc: 0.4248  JaccPerClass: {0: tensor(0.5150), 1: tensor(0.1711), 2: tensor(0.2452), 3: tensor(0.7494), 4: tensor(0.4434)}\n"
     ]
    },
    {
     "data": {
      "application/vnd.jupyter.widget-view+json": {
       "model_id": "e35e67e6494449f5ae114ed6de5050a3",
       "version_major": 2,
       "version_minor": 0
      },
      "text/plain": [
       "HBox(children=(IntProgress(value=0, max=31), HTML(value='')))"
      ]
     },
     "metadata": {},
     "output_type": "display_data"
    },
    {
     "name": "stdout",
     "output_type": "stream",
     "text": [
      "\n",
      "val Loss: 8.0372 MeanJacc: 0.3914  JaccPerClass: {0: tensor(0.5090), 1: tensor(0.1650), 2: tensor(0.1828), 3: tensor(0.7205), 4: tensor(0.3798)}\n",
      "\n",
      "Epoch 13/19\n",
      "----------\n"
     ]
    },
    {
     "data": {
      "application/vnd.jupyter.widget-view+json": {
       "model_id": "edf57e96791948e2a410e71874ccd899",
       "version_major": 2,
       "version_minor": 0
      },
      "text/plain": [
       "HBox(children=(IntProgress(value=0, max=268), HTML(value='')))"
      ]
     },
     "metadata": {},
     "output_type": "display_data"
    },
    {
     "name": "stdout",
     "output_type": "stream",
     "text": [
      "\n",
      "train Loss: 7.4104 MeanJacc: 0.4309  JaccPerClass: {0: tensor(0.5260), 1: tensor(0.1764), 2: tensor(0.2480), 3: tensor(0.7554), 4: tensor(0.4485)}\n"
     ]
    },
    {
     "data": {
      "application/vnd.jupyter.widget-view+json": {
       "model_id": "ae6686b8aa7f402cabaad672e15ce889",
       "version_major": 2,
       "version_minor": 0
      },
      "text/plain": [
       "HBox(children=(IntProgress(value=0, max=31), HTML(value='')))"
      ]
     },
     "metadata": {},
     "output_type": "display_data"
    },
    {
     "name": "stdout",
     "output_type": "stream",
     "text": [
      "\n",
      "val Loss: 7.9510 MeanJacc: 0.3971  JaccPerClass: {0: tensor(0.5227), 1: tensor(0.1717), 2: tensor(0.1934), 3: tensor(0.7202), 4: tensor(0.3773)}\n",
      "\n",
      "Epoch 14/19\n",
      "----------\n"
     ]
    },
    {
     "data": {
      "application/vnd.jupyter.widget-view+json": {
       "model_id": "f0e91ce2e59645d2921490174c4aeb6a",
       "version_major": 2,
       "version_minor": 0
      },
      "text/plain": [
       "HBox(children=(IntProgress(value=0, max=268), HTML(value='')))"
      ]
     },
     "metadata": {},
     "output_type": "display_data"
    },
    {
     "name": "stdout",
     "output_type": "stream",
     "text": [
      "\n",
      "train Loss: 7.4195 MeanJacc: 0.4314  JaccPerClass: {0: tensor(0.5246), 1: tensor(0.1844), 2: tensor(0.2452), 3: tensor(0.7559), 4: tensor(0.4469)}\n"
     ]
    },
    {
     "data": {
      "application/vnd.jupyter.widget-view+json": {
       "model_id": "b10153da63604346a7172d96c2307636",
       "version_major": 2,
       "version_minor": 0
      },
      "text/plain": [
       "HBox(children=(IntProgress(value=0, max=31), HTML(value='')))"
      ]
     },
     "metadata": {},
     "output_type": "display_data"
    },
    {
     "name": "stdout",
     "output_type": "stream",
     "text": [
      "\n",
      "val Loss: 8.0464 MeanJacc: 0.3945  JaccPerClass: {0: tensor(0.5310), 1: tensor(0.1611), 2: tensor(0.1608), 3: tensor(0.7148), 4: tensor(0.4049)}\n",
      "\n",
      "Epoch 15/19\n",
      "----------\n"
     ]
    },
    {
     "data": {
      "application/vnd.jupyter.widget-view+json": {
       "model_id": "b5e0fe11023a41218b902315ff2500f1",
       "version_major": 2,
       "version_minor": 0
      },
      "text/plain": [
       "HBox(children=(IntProgress(value=0, max=268), HTML(value='')))"
      ]
     },
     "metadata": {},
     "output_type": "display_data"
    },
    {
     "name": "stdout",
     "output_type": "stream",
     "text": [
      "\n",
      "train Loss: 7.4075 MeanJacc: 0.4338  JaccPerClass: {0: tensor(0.5238), 1: tensor(0.1853), 2: tensor(0.2542), 3: tensor(0.7567), 4: tensor(0.4490)}\n"
     ]
    },
    {
     "data": {
      "application/vnd.jupyter.widget-view+json": {
       "model_id": "2044e1d3d77c46cf8b057e29cceef485",
       "version_major": 2,
       "version_minor": 0
      },
      "text/plain": [
       "HBox(children=(IntProgress(value=0, max=31), HTML(value='')))"
      ]
     },
     "metadata": {},
     "output_type": "display_data"
    },
    {
     "name": "stdout",
     "output_type": "stream",
     "text": [
      "\n",
      "val Loss: 7.8910 MeanJacc: 0.3978  JaccPerClass: {0: tensor(0.5327), 1: tensor(0.1594), 2: tensor(0.1859), 3: tensor(0.7216), 4: tensor(0.3894)}\n",
      "\n",
      "Epoch 16/19\n",
      "----------\n"
     ]
    },
    {
     "data": {
      "application/vnd.jupyter.widget-view+json": {
       "model_id": "d5e7015da89c49578c9cadc6981d059e",
       "version_major": 2,
       "version_minor": 0
      },
      "text/plain": [
       "HBox(children=(IntProgress(value=0, max=268), HTML(value='')))"
      ]
     },
     "metadata": {},
     "output_type": "display_data"
    },
    {
     "name": "stdout",
     "output_type": "stream",
     "text": [
      "\n",
      "train Loss: 7.2939 MeanJacc: 0.4392  JaccPerClass: {0: tensor(0.5318), 1: tensor(0.1839), 2: tensor(0.2598), 3: tensor(0.7566), 4: tensor(0.4640)}\n"
     ]
    },
    {
     "data": {
      "application/vnd.jupyter.widget-view+json": {
       "model_id": "5b6e5b0bcf764e5f8de702330016802f",
       "version_major": 2,
       "version_minor": 0
      },
      "text/plain": [
       "HBox(children=(IntProgress(value=0, max=31), HTML(value='')))"
      ]
     },
     "metadata": {},
     "output_type": "display_data"
    },
    {
     "name": "stdout",
     "output_type": "stream",
     "text": [
      "\n",
      "val Loss: 7.9230 MeanJacc: 0.4030  JaccPerClass: {0: tensor(0.5349), 1: tensor(0.1621), 2: tensor(0.1901), 3: tensor(0.7274), 4: tensor(0.4004)}\n",
      "\n",
      "Epoch 17/19\n",
      "----------\n"
     ]
    },
    {
     "data": {
      "application/vnd.jupyter.widget-view+json": {
       "model_id": "e416de6b1372435e8d5a1f6b2c0ece89",
       "version_major": 2,
       "version_minor": 0
      },
      "text/plain": [
       "HBox(children=(IntProgress(value=0, max=268), HTML(value='')))"
      ]
     },
     "metadata": {},
     "output_type": "display_data"
    },
    {
     "name": "stdout",
     "output_type": "stream",
     "text": [
      "\n",
      "train Loss: 7.3298 MeanJacc: 0.4363  JaccPerClass: {0: tensor(0.5264), 1: tensor(0.1840), 2: tensor(0.2544), 3: tensor(0.7551), 4: tensor(0.4615)}\n"
     ]
    },
    {
     "data": {
      "application/vnd.jupyter.widget-view+json": {
       "model_id": "8379641d63e74a308910d40a113668d5",
       "version_major": 2,
       "version_minor": 0
      },
      "text/plain": [
       "HBox(children=(IntProgress(value=0, max=31), HTML(value='')))"
      ]
     },
     "metadata": {},
     "output_type": "display_data"
    },
    {
     "name": "stdout",
     "output_type": "stream",
     "text": [
      "\n",
      "val Loss: 8.1201 MeanJacc: 0.3917  JaccPerClass: {0: tensor(0.5242), 1: tensor(0.1550), 2: tensor(0.1524), 3: tensor(0.7270), 4: tensor(0.3998)}\n",
      "\n",
      "Epoch 18/19\n",
      "----------\n"
     ]
    },
    {
     "data": {
      "application/vnd.jupyter.widget-view+json": {
       "model_id": "e6fb0a7fce9c41469c6c50742dff9dd2",
       "version_major": 2,
       "version_minor": 0
      },
      "text/plain": [
       "HBox(children=(IntProgress(value=0, max=268), HTML(value='')))"
      ]
     },
     "metadata": {},
     "output_type": "display_data"
    },
    {
     "name": "stdout",
     "output_type": "stream",
     "text": [
      "\n",
      "train Loss: 7.3176 MeanJacc: 0.4365  JaccPerClass: {0: tensor(0.5358), 1: tensor(0.1799), 2: tensor(0.2521), 3: tensor(0.7569), 4: tensor(0.4576)}\n"
     ]
    },
    {
     "data": {
      "application/vnd.jupyter.widget-view+json": {
       "model_id": "b278db2aae744479b398904ecc9bac80",
       "version_major": 2,
       "version_minor": 0
      },
      "text/plain": [
       "HBox(children=(IntProgress(value=0, max=31), HTML(value='')))"
      ]
     },
     "metadata": {},
     "output_type": "display_data"
    },
    {
     "name": "stdout",
     "output_type": "stream",
     "text": [
      "\n",
      "val Loss: 7.8552 MeanJacc: 0.4037  JaccPerClass: {0: tensor(0.5252), 1: tensor(0.1639), 2: tensor(0.1943), 3: tensor(0.7196), 4: tensor(0.4152)}\n",
      "\n",
      "Epoch 19/19\n",
      "----------\n"
     ]
    },
    {
     "data": {
      "application/vnd.jupyter.widget-view+json": {
       "model_id": "6d9a5033d0fd4ab7b2a2367d4efbcd3b",
       "version_major": 2,
       "version_minor": 0
      },
      "text/plain": [
       "HBox(children=(IntProgress(value=0, max=268), HTML(value='')))"
      ]
     },
     "metadata": {},
     "output_type": "display_data"
    },
    {
     "name": "stdout",
     "output_type": "stream",
     "text": [
      "\n",
      "train Loss: 7.2643 MeanJacc: 0.4408  JaccPerClass: {0: tensor(0.5301), 1: tensor(0.1924), 2: tensor(0.2625), 3: tensor(0.7567), 4: tensor(0.4623)}\n"
     ]
    },
    {
     "data": {
      "application/vnd.jupyter.widget-view+json": {
       "model_id": "6259d7a0796843cc8956bb5b1d3fc182",
       "version_major": 2,
       "version_minor": 0
      },
      "text/plain": [
       "HBox(children=(IntProgress(value=0, max=31), HTML(value='')))"
      ]
     },
     "metadata": {},
     "output_type": "display_data"
    },
    {
     "name": "stdout",
     "output_type": "stream",
     "text": [
      "\n",
      "val Loss: 7.9452 MeanJacc: 0.3991  JaccPerClass: {0: tensor(0.5262), 1: tensor(0.1567), 2: tensor(0.1904), 3: tensor(0.7213), 4: tensor(0.4008)}\n",
      "\n",
      "Training complete in 38m 32s\n",
      "Best val Loss: 7.855205\n"
     ]
    },
    {
     "ename": "NameError",
     "evalue": "name 'best_acc' is not defined",
     "output_type": "error",
     "traceback": [
      "\u001b[0;31m---------------------------------------------------------------------------\u001b[0m",
      "\u001b[0;31mNameError\u001b[0m                                 Traceback (most recent call last)",
      "\u001b[0;32m<ipython-input-31-85c29927d41f>\u001b[0m in \u001b[0;36m<module>\u001b[0;34m\u001b[0m\n\u001b[1;32m     10\u001b[0m     \u001b[0mscheduler\u001b[0m\u001b[0;34m=\u001b[0m\u001b[0mexp_lr_scheduler\u001b[0m\u001b[0;34m,\u001b[0m\u001b[0;34m\u001b[0m\u001b[0m\n\u001b[1;32m     11\u001b[0m     \u001b[0mwriter\u001b[0m\u001b[0;34m=\u001b[0m\u001b[0mwriter\u001b[0m\u001b[0;34m,\u001b[0m\u001b[0;34m\u001b[0m\u001b[0m\n\u001b[0;32m---> 12\u001b[0;31m     \u001b[0mnum_epochs\u001b[0m\u001b[0;34m=\u001b[0m\u001b[0;36m20\u001b[0m\u001b[0;34m\u001b[0m\u001b[0m\n\u001b[0m\u001b[1;32m     13\u001b[0m )\n",
      "\u001b[0;32m/opt/app/projects/MasterSemesterProject/train.py\u001b[0m in \u001b[0;36mtrain_model\u001b[0;34m(dataloaders, dataset_sizes, path_to_data, model_name, model, device, criterion, optimizer, scheduler, writer, num_epochs)\u001b[0m\n\u001b[1;32m     84\u001b[0m     \u001b[0mprint\u001b[0m\u001b[0;34m(\u001b[0m\u001b[0;34m'Training complete in {:.0f}m {:.0f}s'\u001b[0m\u001b[0;34m.\u001b[0m\u001b[0mformat\u001b[0m\u001b[0;34m(\u001b[0m\u001b[0mtime_elapsed\u001b[0m \u001b[0;34m//\u001b[0m \u001b[0;36m60\u001b[0m\u001b[0;34m,\u001b[0m \u001b[0mtime_elapsed\u001b[0m \u001b[0;34m%\u001b[0m \u001b[0;36m60\u001b[0m\u001b[0;34m)\u001b[0m\u001b[0;34m)\u001b[0m\u001b[0;34m\u001b[0m\u001b[0m\n\u001b[1;32m     85\u001b[0m     \u001b[0mprint\u001b[0m\u001b[0;34m(\u001b[0m\u001b[0;34m'Best val Loss: {:4f}'\u001b[0m\u001b[0;34m.\u001b[0m\u001b[0mformat\u001b[0m\u001b[0;34m(\u001b[0m\u001b[0mbest_loss\u001b[0m\u001b[0;34m)\u001b[0m\u001b[0;34m)\u001b[0m\u001b[0;34m\u001b[0m\u001b[0m\n\u001b[0;32m---> 86\u001b[0;31m     \u001b[0mprint\u001b[0m\u001b[0;34m(\u001b[0m\u001b[0;34m'Best val Acc: {:4f}'\u001b[0m\u001b[0;34m.\u001b[0m\u001b[0mformat\u001b[0m\u001b[0;34m(\u001b[0m\u001b[0mbest_acc\u001b[0m\u001b[0;34m)\u001b[0m\u001b[0;34m)\u001b[0m\u001b[0;34m\u001b[0m\u001b[0m\n\u001b[0m\u001b[1;32m     87\u001b[0m \u001b[0;34m\u001b[0m\u001b[0m\n\u001b[1;32m     88\u001b[0m     \u001b[0;31m# load best model weights\u001b[0m\u001b[0;34m\u001b[0m\u001b[0;34m\u001b[0m\u001b[0m\n",
      "\u001b[0;31mNameError\u001b[0m: name 'best_acc' is not defined"
     ]
    }
   ],
   "source": [
    "albunet = train_model(\n",
    "    device=device,\n",
    "    dataloaders=dataloaders,\n",
    "    dataset_sizes=dataset_sizes,\n",
    "    path_to_data=path_to_data,\n",
    "    model_name=to_name('albunet_dice2'),\n",
    "    model=albunet,\n",
    "    criterion=criterion,\n",
    "    optimizer=optimizer,\n",
    "    scheduler=exp_lr_scheduler,\n",
    "    writer=writer,\n",
    "    num_epochs=20\n",
    ")"
   ]
  },
  {
   "cell_type": "code",
   "execution_count": 27,
   "metadata": {},
   "outputs": [
    {
     "data": {
      "text/plain": [
       "{'_background_': 0, 'door': 1, 'object': 2, 'wall': 3, 'window': 4}"
      ]
     },
     "execution_count": 27,
     "metadata": {},
     "output_type": "execute_result"
    }
   ],
   "source": [
    "label_name_to_value"
   ]
  },
  {
   "cell_type": "code",
   "execution_count": 28,
   "metadata": {},
   "outputs": [],
   "source": [
    "albunet.load_state_dict(torch.load(\"{}/models/model_albunet_dice2_cropped100_256_1024_19.torch\".format(path_to_data)))"
   ]
  },
  {
   "cell_type": "markdown",
   "metadata": {},
   "source": [
    "# Showing Predictions"
   ]
  },
  {
   "cell_type": "code",
   "execution_count": 29,
   "metadata": {},
   "outputs": [],
   "source": [
    "crop_to_img_list = [img_idx for img_idx, (from_, to) in enumerate(crops_from_to_idx) for i in range(from_, to)]\n",
    "def crop_to_img(crop_idx):\n",
    "    return crop_to_img_list[crop_idx]\n",
    "\n",
    "val_images = sorted(list({crop_to_img(i) for i in val_ind}))\n",
    "assert len(val_images) == n_img_val"
   ]
  },
  {
   "cell_type": "code",
   "execution_count": 30,
   "metadata": {},
   "outputs": [],
   "source": [
    "def val_img_predict(idx):\n",
    "    crops_to_show = img_idx_to_crop_idx(val_images[idx_to_show:idx_to_show+1])\n",
    "    image_to_show = torch.stack([dataset[i]['image'] for i in crops_to_show])\n",
    "    target = torch.stack([dataset[i]['label'] for i in crops_to_show])\n",
    "    outputs = albunet(image_to_show.to(device))\n",
    "    _, pred = torch.max(outputs, 1)\n",
    "    return image_to_show, pred, target"
   ]
  },
  {
   "cell_type": "code",
   "execution_count": 31,
   "metadata": {},
   "outputs": [],
   "source": [
    "pred_acc = []\n",
    "for idx_to_show in range(len(val_images)):\n",
    "    _, pred, target = val_img_predict(idx_to_show)\n",
    "    #pred_cmp = target.squeeze().to(device) == pred\n",
    "    #pred_acc.append(pred_cmp.sum().item() / pred_cmp.nelement())\n",
    "    acc_jaccard = jaccard_index(pred, target.squeeze(), n_classes=len(target.unique()))\n",
    "    pred_acc.append(acc_jaccard.mean())"
   ]
  },
  {
   "cell_type": "code",
   "execution_count": 32,
   "metadata": {},
   "outputs": [],
   "source": [
    "padding = 0"
   ]
  },
  {
   "cell_type": "code",
   "execution_count": 33,
   "metadata": {},
   "outputs": [
    {
     "data": {
      "text/plain": [
       "(24, tensor(0.6859))"
      ]
     },
     "execution_count": 33,
     "metadata": {},
     "output_type": "execute_result"
    }
   ],
   "source": [
    "idx_to_show = np.argmax(pred_acc)\n",
    "n_row = 4\n",
    "image_to_show, pred, label_to_show = val_img_predict(idx_to_show)\n",
    "idx_to_show, pred_acc[idx_to_show]"
   ]
  },
  {
   "cell_type": "code",
   "execution_count": 34,
   "metadata": {},
   "outputs": [
    {
     "data": {
      "image/png": "[encoded data removed]",
      "text/plain": [
       "<Figure size 1080x432 with 1 Axes>"
      ]
     },
     "metadata": {},
     "output_type": "display_data"
    },
    {
     "data": {
      "image/png": "[encoded data removed]",
      "text/plain": [
       "<Figure size 1080x432 with 1 Axes>"
      ]
     },
     "metadata": {},
     "output_type": "display_data"
    }
   ],
   "source": [
    "show_img(utils.make_grid(pred.unsqueeze(1).cpu(), nrow=n_row, padding=padding)[0].numpy())\n",
    "#show_img(utils.make_grid(image_to_show.cpu(), nrow=n_row, padding=padding))\n",
    "show_img(utils.make_grid(label_to_show.cpu(), nrow=n_row, padding=padding)[0].numpy())"
   ]
  },
  {
   "cell_type": "code",
   "execution_count": 35,
   "metadata": {},
   "outputs": [
    {
     "data": {
      "text/plain": [
       "(2, tensor(0.2124))"
      ]
     },
     "execution_count": 35,
     "metadata": {},
     "output_type": "execute_result"
    }
   ],
   "source": [
    "idx_to_show = np.argmin(pred_acc)\n",
    "n_row = 4\n",
    "image_to_show, pred, label_to_show = val_img_predict(idx_to_show)\n",
    "idx_to_show, pred_acc[idx_to_show]"
   ]
  },
  {
   "cell_type": "code",
   "execution_count": 36,
   "metadata": {},
   "outputs": [
    {
     "data": {
      "image/png": "[encoded data removed]",
      "text/plain": [
       "<Figure size 1080x432 with 1 Axes>"
      ]
     },
     "metadata": {},
     "output_type": "display_data"
    },
    {
     "name": "stderr",
     "output_type": "stream",
     "text": [
      "Clipping input data to the valid range for imshow with RGB data ([0..1] for floats or [0..255] for integers).\n"
     ]
    },
    {
     "data": {
      "image/png": "[encoded data removed]",
      "text/plain": [
       "<Figure size 1080x432 with 1 Axes>"
      ]
     },
     "metadata": {},
     "output_type": "display_data"
    },
    {
     "data": {
      "image/png": "[encoded data removed]",
      "text/plain": [
       "<Figure size 1080x432 with 1 Axes>"
      ]
     },
     "metadata": {},
     "output_type": "display_data"
    }
   ],
   "source": [
    "show_img(utils.make_grid(pred.unsqueeze(1).cpu(), nrow=n_row, padding=padding)[0].numpy())\n",
    "show_img(utils.make_grid(image_to_show.cpu(), nrow=n_row, padding=padding))\n",
    "show_img(utils.make_grid(label_to_show.cpu(), nrow=n_row, padding=padding)[0].numpy())"
   ]
  },
  {
   "cell_type": "code",
   "execution_count": 37,
   "metadata": {},
   "outputs": [
    {
     "data": {
      "text/plain": [
       "(41, tensor(0.4914))"
      ]
     },
     "execution_count": 37,
     "metadata": {},
     "output_type": "execute_result"
    }
   ],
   "source": [
    "idx_to_show = len(pred_acc)-1\n",
    "n_row = 4\n",
    "image_to_show, pred, label_to_show = val_img_predict(idx_to_show)\n",
    "idx_to_show, pred_acc[idx_to_show]"
   ]
  },
  {
   "cell_type": "code",
   "execution_count": 38,
   "metadata": {},
   "outputs": [
    {
     "data": {
      "image/png": "[encoded data removed]",
      "text/plain": [
       "<Figure size 1080x432 with 1 Axes>"
      ]
     },
     "metadata": {},
     "output_type": "display_data"
    },
    {
     "data": {
      "image/png": "[encoded data removed]",
      "text/plain": [
       "<Figure size 1080x432 with 1 Axes>"
      ]
     },
     "metadata": {},
     "output_type": "display_data"
    }
   ],
   "source": [
    "show_img(utils.make_grid(pred.unsqueeze(1).cpu(), nrow=n_row, padding=padding)[0].numpy())\n",
    "#show_img(utils.make_grid(image_to_show.cpu(), nrow=n_row, padding=padding))\n",
    "show_img(utils.make_grid(label_to_show.cpu(), nrow=n_row, padding=padding)[0].numpy())"
   ]
  },
  {
   "cell_type": "code",
   "execution_count": null,
   "metadata": {},
   "outputs": [],
   "source": []
  },
  {
   "cell_type": "code",
   "execution_count": null,
   "metadata": {},
   "outputs": [],
   "source": []
  }
 ],
 "metadata": {
  "kernelspec": {
   "display_name": "Python 3",
   "language": "python",
   "name": "python3"
  },
  "language_info": {
   "codemirror_mode": {
    "name": "ipython",
    "version": 3
   },
   "file_extension": ".py",
   "mimetype": "text/x-python",
   "name": "python",
   "nbconvert_exporter": "python",
   "pygments_lexer": "ipython3",
   "version": "3.5.2"
  }
 },
 "nbformat": 4,
 "nbformat_minor": 2
}
